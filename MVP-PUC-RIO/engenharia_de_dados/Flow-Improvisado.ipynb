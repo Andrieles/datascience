{
 "cells": [
  {
   "cell_type": "markdown",
   "metadata": {
    "application/vnd.databricks.v1+cell": {
     "cellMetadata": {
      "byteLimit": 2048000,
      "rowLimit": 10000
     },
     "inputWidgets": {},
     "nuid": "5ae593d8-80f1-43e4-ae0d-3035d753f7d9",
     "showTitle": false,
     "title": ""
    }
   },
   "source": [
    "\n",
    "# Flow Improvisado em três passos:\n"
   ]
  },
  {
   "cell_type": "markdown",
   "metadata": {
    "application/vnd.databricks.v1+cell": {
     "cellMetadata": {
      "byteLimit": 2048000,
      "rowLimit": 10000
     },
     "inputWidgets": {},
     "nuid": "7b84716e-3775-4aa8-ba12-fd643ff12f3f",
     "showTitle": false,
     "title": ""
    }
   },
   "source": [
    "### 1 - ETL dos dados oriundos do INMET"
   ]
  },
  {
   "cell_type": "code",
   "execution_count": 0,
   "metadata": {
    "application/vnd.databricks.v1+cell": {
     "cellMetadata": {
      "byteLimit": 2048000,
      "rowLimit": 10000
     },
     "collapsed": true,
     "inputWidgets": {},
     "nuid": "431bd5d6-4370-49ef-804f-6647d26650ff",
     "showTitle": false,
     "title": ""
    }
   },
   "outputs": [],
   "source": [
    "%run /Shared/MVP_Engenharia_de_dados/ETL-Inmet"
   ]
  },
  {
   "cell_type": "markdown",
   "metadata": {
    "application/vnd.databricks.v1+cell": {
     "cellMetadata": {
      "byteLimit": 2048000,
      "rowLimit": 10000
     },
     "inputWidgets": {},
     "nuid": "3911dd4a-be2b-46c1-b45d-a9d0fafa768b",
     "showTitle": false,
     "title": ""
    }
   },
   "source": [
    "### 2 - ETL dos dados oriundos do openDataSUS"
   ]
  },
  {
   "cell_type": "code",
   "execution_count": 0,
   "metadata": {
    "application/vnd.databricks.v1+cell": {
     "cellMetadata": {
      "byteLimit": 2048000,
      "rowLimit": 10000
     },
     "collapsed": true,
     "inputWidgets": {},
     "nuid": "9ad91197-9da2-48a1-b528-e79fad54e327",
     "showTitle": false,
     "title": ""
    }
   },
   "outputs": [],
   "source": [
    "%run /Shared/MVP_Engenharia_de_dados/ETL-openDataSUS"
   ]
  },
  {
   "cell_type": "markdown",
   "metadata": {
    "application/vnd.databricks.v1+cell": {
     "cellMetadata": {
      "byteLimit": 2048000,
      "rowLimit": 10000
     },
     "inputWidgets": {},
     "nuid": "b0e4b180-288d-45fc-8eec-8005fdddf623",
     "showTitle": false,
     "title": ""
    }
   },
   "source": [
    "### 3 - Montagem do DW"
   ]
  },
  {
   "cell_type": "code",
   "execution_count": 0,
   "metadata": {
    "application/vnd.databricks.v1+cell": {
     "cellMetadata": {
      "byteLimit": 2048000,
      "rowLimit": 10000
     },
     "collapsed": true,
     "inputWidgets": {},
     "nuid": "7b0e4727-b273-4a5f-babb-41ed445cbbdf",
     "showTitle": false,
     "title": ""
    }
   },
   "outputs": [],
   "source": [
    "%run /Shared/MVP_Engenharia_de_dados/Montagem_DW"
   ]
  }
 ],
 "metadata": {
  "application/vnd.databricks.v1+notebook": {
   "dashboards": [],
   "environmentMetadata": null,
   "language": "python",
   "notebookMetadata": {
    "mostRecentlyExecutedCommandWithImplicitDF": {
     "commandId": 3762918894152814,
     "dataframes": [
      "_sqldf"
     ]
    },
    "pythonIndentUnit": 4
   },
   "notebookName": "Flow-Improvisado",
   "widgets": {}
  }
 },
 "nbformat": 4,
 "nbformat_minor": 0
}
