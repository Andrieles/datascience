{
 "cells": [
  {
   "cell_type": "markdown",
   "metadata": {
    "application/vnd.databricks.v1+cell": {
     "cellMetadata": {
      "byteLimit": 2048000,
      "rowLimit": 10000
     },
     "inputWidgets": {},
     "nuid": "96816ed7-b08a-4ca3-abb9-f99880c3535d",
     "showTitle": false,
     "title": ""
    }
   },
   "source": [
    "## Overview\n",
    "\n",
    "ETL - DADOS HISTÓRICOS ANUAIS - 2023\n",
    "\n",
    "A missão do Instituto Nacional de Meteorologia (INMET), órgão do Ministério da Agricultura e Pecuária, é agregar valor à produção no Brasil por meio de informações meteorológicas. Esta missão é alcançada por meio de monitoramento, análise e previsão de tempo e de clima, que se fundamentam em pesquisa aplicada, trabalho em parceria e compartilhamento do conhecimento, com ênfase em resultados práticos e confiáveis.\n",
    "\n",
    "https://portal.inmet.gov.br/dadoshistoricos\n",
    "\n",
    "\n",
    "Arquivo utilizado : INMET_CO_DF_A001_BRASILIA_01-01-2023_A_31-12-2023.CSV\n",
    "\n",
    "Primeiras sete linhas do arquivo:\n",
    "\n",
    "REGIAO:\tCO\n",
    "UF:\tDF\n",
    "ESTACAO:\tBRASILIA\n",
    "CODIGO (WMO):\tA001\n",
    "LATITUDE:\t-15,78944444\n",
    "LONGITUDE:\t-47,92583332\n",
    "ALTITUDE:\t1160,96\n",
    "DATA DE FUNDACAO:\t07/05/2000\n",
    "\n",
    "\n",
    "\n"
   ]
  },
  {
   "cell_type": "markdown",
   "metadata": {
    "application/vnd.databricks.v1+cell": {
     "cellMetadata": {
      "byteLimit": 2048000,
      "rowLimit": 10000
     },
     "inputWidgets": {},
     "nuid": "fc1a1af0-aa79-4207-9044-26dad46bf1b6",
     "showTitle": false,
     "title": ""
    }
   },
   "source": [
    "## Preparação do ambiente"
   ]
  },
  {
   "cell_type": "code",
   "execution_count": 0,
   "metadata": {
    "application/vnd.databricks.v1+cell": {
     "cellMetadata": {
      "byteLimit": 2048000,
      "rowLimit": 10000
     },
     "inputWidgets": {},
     "nuid": "8a1734c5-54e8-4efe-99e3-af62443374e1",
     "showTitle": false,
     "title": ""
    }
   },
   "outputs": [],
   "source": [
    "import requests\n",
    "from pyspark.dbutils import DBUtils\n",
    "from pyspark.sql.functions import dayofyear, expr, col, avg, round, regexp_replace, year"
   ]
  },
  {
   "cell_type": "markdown",
   "metadata": {
    "application/vnd.databricks.v1+cell": {
     "cellMetadata": {
      "byteLimit": 2048000,
      "rowLimit": 10000
     },
     "inputWidgets": {},
     "nuid": "fb9d886b-cc8e-44f8-bbf2-e0b9542253cc",
     "showTitle": false,
     "title": ""
    }
   },
   "source": [
    "# Extração"
   ]
  },
  {
   "cell_type": "markdown",
   "metadata": {
    "application/vnd.databricks.v1+cell": {
     "cellMetadata": {
      "byteLimit": 2048000,
      "rowLimit": 10000
     },
     "inputWidgets": {},
     "nuid": "8cef3f64-c601-46fb-a160-1d4d8accb1c3",
     "showTitle": false,
     "title": ""
    }
   },
   "source": [
    "## Download"
   ]
  },
  {
   "cell_type": "code",
   "execution_count": 0,
   "metadata": {
    "application/vnd.databricks.v1+cell": {
     "cellMetadata": {
      "byteLimit": 2048000,
      "rowLimit": 10000
     },
     "inputWidgets": {},
     "nuid": "2230e6ee-dfa6-4f88-b199-e5038d557784",
     "showTitle": false,
     "title": ""
    }
   },
   "outputs": [
    {
     "output_type": "stream",
     "name": "stdout",
     "output_type": "stream",
     "text": [
      "Out[14]: True"
     ]
    }
   ],
   "source": [
    "from pyspark.dbutils import DBUtils\n",
    "\n",
    "dbutils = DBUtils(spark)\n",
    "\n",
    "# URL do arquivo de origem\n",
    "url = 'https://portal.inmet.gov.br/uploads/dadoshistoricos/2023.zip'\n",
    "\n",
    "# Caminho na pasta no DBFS onde o arquivo será salvo\n",
    "dbfs_path = '/FileStore/tables/downloads/inmet_2023.zip'\n",
    "\n",
    "# Baixa o arquivo\n",
    "r = requests.get(url, allow_redirects=True)\n",
    "open('/tmp/inmet_2023.zip', 'wb').write(r.content)\n",
    "\n",
    "# Copia o arquivo para o DBFS\n",
    "dbutils.fs.cp('file:/tmp/inmet_2023.zip', dbfs_path)\n",
    "\n"
   ]
  },
  {
   "cell_type": "markdown",
   "metadata": {
    "application/vnd.databricks.v1+cell": {
     "cellMetadata": {
      "byteLimit": 2048000,
      "rowLimit": 10000
     },
     "inputWidgets": {},
     "nuid": "e9292179-92a0-43de-95dc-fb519e78b05b",
     "showTitle": false,
     "title": ""
    }
   },
   "source": [
    "### Descompactação dos dados"
   ]
  },
  {
   "cell_type": "markdown",
   "metadata": {
    "application/vnd.databricks.v1+cell": {
     "cellMetadata": {
      "byteLimit": 2048000,
      "rowLimit": 10000
     },
     "inputWidgets": {},
     "nuid": "1b255d55-731b-4011-a0c6-caa66f01d7fe",
     "showTitle": false,
     "title": ""
    }
   },
   "source": [
    "O arquivo com as medições meteriológicas do INMET são disponililizadas compactadas e contém os dados separados em um arquivo para cada estação meteriológica. Então nas quatro celulas a seguir faço as seguintes tarefas.\n",
    "\n",
    "1º - Descompacto o arquivo zip na pasta /tmp do cluster\n",
    "\n",
    "2º - Localizo o arquivo de interesse (visualmente mesmo)\n",
    "\n",
    "3º - Removo as 8 primeiras linhas do arquivo que posuem duas colunas com informações relativas a identificação da estação que efetuaou as medições.\n",
    "\n",
    "4º - Cópio o arquivo para a pasta de donloads no meu DBFS"
   ]
  },
  {
   "cell_type": "code",
   "execution_count": 0,
   "metadata": {
    "application/vnd.databricks.v1+cell": {
     "cellMetadata": {
      "byteLimit": 2048000,
      "rowLimit": 10000
     },
     "inputWidgets": {},
     "nuid": "81207f3b-2ba8-4a3e-8b2e-8c04de5fd352",
     "showTitle": false,
     "title": ""
    }
   },
   "outputs": [
    {
     "output_type": "stream",
     "name": "stdout",
     "output_type": "stream",
     "text": [
      "Archive:  /tmp/inmet_2023.zip\n  inflating: /tmp/inmet_descompactado/INMET_CO_DF_A001_BRASILIA_01-01-2023_A_31-12-2023.CSV  \n  inflating: /tmp/inmet_descompactado/INMET_CO_DF_A042_BRAZLANDIA_01-01-2023_A_31-12-2023.CSV  \n  inflating: /tmp/inmet_descompactado/INMET_CO_DF_A045_AGUAS EMENDADAS_01-01-2023_A_31-12-2023.CSV  \n  inflating: /tmp/inmet_descompactado/INMET_CO_DF_A046_GAMA (PONTE ALTA)_01-01-2023_A_31-12-2023.CSV  \n  inflating: /tmp/inmet_descompactado/INMET_CO_DF_A047_PARANOA (COOPA-DF)_01-01-2023_A_31-12-2023.CSV  \n  inflating: /tmp/inmet_descompactado/INMET_CO_GO_A002_GOIANIA_01-01-2023_A_31-12-2023.CSV  \n  inflating: /tmp/inmet_descompactado/INMET_CO_GO_A003_MORRINHOS_01-01-2023_A_31-12-2023.CSV  \n  inflating: /tmp/inmet_descompactado/INMET_CO_GO_A005_PORANGATU_01-01-2023_A_31-12-2023.CSV  \n  inflating: /tmp/inmet_descompactado/INMET_CO_GO_A011_SAO SIMAO_01-01-2023_A_31-12-2023.CSV  \n  inflating: /tmp/inmet_descompactado/INMET_CO_GO_A012_LUZIANIA_01-01-2023_A_31-12-2023.CSV  \n  inflating: /tmp/inmet_descompactado/INMET_CO_GO_A013_ARAGARCAS_01-01-2023_A_31-12-2023.CSV  \n  inflating: /tmp/inmet_descompactado/INMET_CO_GO_A014_GOIAS_01-01-2023_A_31-12-2023.CSV  \n  inflating: /tmp/inmet_descompactado/INMET_CO_GO_A015_ITAPACI_01-01-2023_A_31-12-2023.CSV  \n  inflating: /tmp/inmet_descompactado/INMET_CO_GO_A016_JATAI_01-01-2023_A_31-12-2023.CSV  \n  inflating: /tmp/inmet_descompactado/INMET_CO_GO_A017_POSSE_01-01-2023_A_31-12-2023.CSV  \n  inflating: /tmp/inmet_descompactado/INMET_CO_GO_A022_GOIANESIA_01-01-2023_A_31-12-2023.CSV  \n  inflating: /tmp/inmet_descompactado/INMET_CO_GO_A023_CAIAPONIA_01-01-2023_A_31-12-2023.CSV  \n  inflating: /tmp/inmet_descompactado/INMET_CO_GO_A024_ALTO PARAISO DE GOIAS_01-01-2023_A_31-12-2023.CSV  \n  inflating: /tmp/inmet_descompactado/INMET_CO_GO_A025_RIO VERDE_01-01-2023_A_31-12-2023.CSV  \n  inflating: /tmp/inmet_descompactado/INMET_CO_GO_A026_MINEIROS_01-01-2023_A_31-12-2023.CSV  \n  inflating: /tmp/inmet_descompactado/INMET_CO_GO_A027_PARAUNA_01-01-2023_A_31-12-2023.CSV  \n  inflating: /tmp/inmet_descompactado/INMET_CO_GO_A028_IPORA_01-01-2023_A_31-12-2023.CSV  \n  inflating: /tmp/inmet_descompactado/INMET_CO_GO_A029_EDEIA_01-01-2023_A_31-12-2023.CSV  \n  inflating: /tmp/inmet_descompactado/INMET_CO_GO_A031_SAO MIGUEL DO ARAGUAIA_01-01-2023_A_31-12-2023.CSV  \n  inflating: /tmp/inmet_descompactado/INMET_CO_GO_A032_MONTE ALEGRE DE GOIAS_01-01-2023_A_31-12-2023.CSV  \n  inflating: /tmp/inmet_descompactado/INMET_CO_GO_A033_PIRES DO RIO_01-01-2023_A_31-12-2023.CSV  \n  inflating: /tmp/inmet_descompactado/INMET_CO_GO_A034_CATALAO_01-01-2023_A_31-12-2023.CSV  \n  inflating: /tmp/inmet_descompactado/INMET_CO_GO_A035_ITUMBIARA_01-01-2023_A_31-12-2023.CSV  \n  inflating: /tmp/inmet_descompactado/INMET_CO_GO_A036_CRISTALINA_01-01-2023_A_31-12-2023.CSV  \n  inflating: /tmp/inmet_descompactado/INMET_CO_GO_A037_SILVANIA_01-01-2023_A_31-12-2023.CSV  \n  inflating: /tmp/inmet_descompactado/INMET_CO_GO_A056_CRISTALINA (FAZENDA SANTA MONICA)_01-01-2023_A_31-12-2023.CSV  \n  inflating: /tmp/inmet_descompactado/INMET_CO_MS_A702_CAMPO GRANDE_01-01-2023_A_31-12-2023.CSV  \n  inflating: /tmp/inmet_descompactado/INMET_CO_MS_A703_PONTA PORA_01-01-2023_A_31-12-2023.CSV  \n  inflating: /tmp/inmet_descompactado/INMET_CO_MS_A704_TRES LAGOAS_01-01-2023_A_31-12-2023.CSV  \n  inflating: /tmp/inmet_descompactado/INMET_CO_MS_A709_IVINHEMA_01-01-2023_A_31-12-2023.CSV  \n  inflating: /tmp/inmet_descompactado/INMET_CO_MS_A710_PARANAIBA_01-01-2023_A_31-12-2023.CSV  \n  inflating: /tmp/inmet_descompactado/INMET_CO_MS_A717_NHUMIRIM_01-01-2023_A_31-12-2023.CSV  \n  inflating: /tmp/inmet_descompactado/INMET_CO_MS_A719_AQUIDAUANA_01-01-2023_A_31-12-2023.CSV  \n  inflating: /tmp/inmet_descompactado/INMET_CO_MS_A720_COXIM_01-01-2023_A_31-12-2023.CSV  \n  inflating: /tmp/inmet_descompactado/INMET_CO_MS_A721_DOURADOS_01-01-2023_A_31-12-2023.CSV  \n  inflating: /tmp/inmet_descompactado/INMET_CO_MS_A722_MIRANDA_01-01-2023_A_31-12-2023.CSV  \n  inflating: /tmp/inmet_descompactado/INMET_CO_MS_A723_PORTO MURTINHO_01-01-2023_A_31-12-2023.CSV  \n  inflating: /tmp/inmet_descompactado/INMET_CO_MS_A724_CORUMBA_01-01-2023_A_31-12-2023.CSV  \n  inflating: /tmp/inmet_descompactado/INMET_CO_MS_A730_CHAPADAO DO SUL_01-01-2023_A_31-12-2023.CSV  \n  inflating: /tmp/inmet_descompactado/INMET_CO_MS_A731_MARACAJU_01-01-2023_A_31-12-2023.CSV  \n  inflating: /tmp/inmet_descompactado/INMET_CO_MS_A732_SAO GABRIEL DO OESTE_01-01-2023_A_31-12-2023.CSV  \n  inflating: /tmp/inmet_descompactado/INMET_CO_MS_A742_CASSILANDIA_01-01-2023_A_31-12-2023.CSV  \n  inflating: /tmp/inmet_descompactado/INMET_CO_MS_A743_RIO BRILHANTE_01-01-2023_A_31-12-2023.CSV  \n  inflating: /tmp/inmet_descompactado/INMET_CO_MS_A749_JUTI_01-01-2023_A_31-12-2023.CSV  \n  inflating: /tmp/inmet_descompactado/INMET_CO_MS_A750_AMAMBAI_01-01-2023_A_31-12-2023.CSV  \n  inflating: /tmp/inmet_descompactado/INMET_CO_MS_A751_SETE QUEDAS_01-01-2023_A_31-12-2023.CSV  \n  inflating: /tmp/inmet_descompactado/INMET_CO_MS_A752_ITAQUIRAI_01-01-2023_A_31-12-2023.CSV  \n  inflating: /tmp/inmet_descompactado/INMET_CO_MS_A754_SIDROLANDIA_01-01-2023_A_31-12-2023.CSV  \n  inflating: /tmp/inmet_descompactado/INMET_CO_MS_A756_AGUA CLARA_01-01-2023_A_31-12-2023.CSV  \n  inflating: /tmp/inmet_descompactado/INMET_CO_MS_A758_JARDIM_01-01-2023_A_31-12-2023.CSV  \n  inflating: /tmp/inmet_descompactado/INMET_CO_MS_A759_BATAGUASSU_01-01-2023_A_31-12-2023.CSV  \n  inflating: /tmp/inmet_descompactado/INMET_CO_MS_A760_COSTA RICA_01-01-2023_A_31-12-2023.CSV  \n  inflating: /tmp/inmet_descompactado/INMET_CO_MS_A761_SONORA_01-01-2023_A_31-12-2023.CSV  \n  inflating: /tmp/inmet_descompactado/INMET_CO_MT_A901_CUIABA_01-01-2023_A_31-12-2023.CSV  \n  inflating: /tmp/inmet_descompactado/INMET_CO_MT_A902_TANGARA DA SERRA_01-01-2023_A_31-12-2023.CSV  \n  inflating: /tmp/inmet_descompactado/INMET_CO_MT_A903_S.J. DO RIO CLARO_01-01-2023_A_31-12-2023.CSV  \n  inflating: /tmp/inmet_descompactado/INMET_CO_MT_A904_SORRISO_01-01-2023_A_31-12-2023.CSV  \n  inflating: /tmp/inmet_descompactado/INMET_CO_MT_A905_CAMPO NOVO DOS PARECIS_01-01-2023_A_31-12-2023.CSV  \n  inflating: /tmp/inmet_descompactado/INMET_CO_MT_A906_GUARANTA DO NORTE_01-01-2023_A_31-12-2023.CSV  \n  inflating: /tmp/inmet_descompactado/INMET_CO_MT_A907_RONDONOPOLIS_01-01-2023_A_31-12-2023.CSV  \n  inflating: /tmp/inmet_descompactado/INMET_CO_MT_A908_AGUA BOA_01-01-2023_A_31-12-2023.CSV  \n  inflating: /tmp/inmet_descompactado/INMET_CO_MT_A909_ALTO ARAGUAIA_01-01-2023_A_31-12-2023.CSV  \n  inflating: /tmp/inmet_descompactado/INMET_CO_MT_A910_APIACAS_01-01-2023_A_31-12-2023.CSV  \n  inflating: /tmp/inmet_descompactado/INMET_CO_MT_A911_SAPEZAL_01-01-2023_A_31-12-2023.CSV  \n  inflating: /tmp/inmet_descompactado/INMET_CO_MT_A912_CAMPO VERDE_01-01-2023_A_31-12-2023.CSV  \n  inflating: /tmp/inmet_descompactado/INMET_CO_MT_A913_COMODORO_01-01-2023_A_31-12-2023.CSV  \n  inflating: /tmp/inmet_descompactado/INMET_CO_MT_A914_JUARA_01-01-2023_A_31-12-2023.CSV  \n  inflating: /tmp/inmet_descompactado/INMET_CO_MT_A915_PARANATINGA_01-01-2023_A_31-12-2023.CSV  \n  inflating: /tmp/inmet_descompactado/INMET_CO_MT_A916_QUERENCIA_01-01-2023_A_31-12-2023.CSV  \n  inflating: /tmp/inmet_descompactado/INMET_CO_MT_A917_SINOP_01-01-2023_A_31-12-2023.CSV  \n  inflating: /tmp/inmet_descompactado/INMET_CO_MT_A919_COTRIGUACU_01-01-2023_A_31-12-2023.CSV  \n  inflating: /tmp/inmet_descompactado/INMET_CO_MT_A920_JUINA_01-01-2023_A_31-12-2023.CSV  \n  inflating: /tmp/inmet_descompactado/INMET_CO_MT_A921_SAO FELIX  DO ARAGUAIA_01-01-2023_A_31-12-2023.CSV  \n  inflating: /tmp/inmet_descompactado/INMET_CO_MT_A922_VILA BELA DA SANTISSIMA TRINDADE_01-01-2023_A_31-12-2023.CSV  \n  inflating: /tmp/inmet_descompactado/INMET_CO_MT_A923_PRIMAVERA DO LESTE_01-01-2023_A_31-12-2023.CSV  \n  inflating: /tmp/inmet_descompactado/INMET_CO_MT_A924_ALTA FLORESTA_01-01-2023_A_31-12-2023.CSV  \n  inflating: /tmp/inmet_descompactado/INMET_CO_MT_A926_CARLINDA_01-01-2023_A_31-12-2023.CSV  \n  inflating: /tmp/inmet_descompactado/INMET_CO_MT_A927_BRASNORTE (NOVO MUNDO)_01-01-2023_A_31-12-2023.CSV  \n  inflating: /tmp/inmet_descompactado/INMET_CO_MT_A928_NOVA MARINGA_01-01-2023_A_31-12-2023.CSV  \n  inflating: /tmp/inmet_descompactado/INMET_CO_MT_A929_NOVA UBIRATA_01-01-2023_A_31-12-2023.CSV  \n  inflating: /tmp/inmet_descompactado/INMET_CO_MT_A930_GAUCHA DO NORTE_01-01-2023_A_31-12-2023.CSV  \n  inflating: /tmp/inmet_descompactado/INMET_CO_MT_A931_SANTO ANTONIO DO LESTE_01-01-2023_A_31-12-2023.CSV  \n  inflating: /tmp/inmet_descompactado/INMET_CO_MT_A932_GUIRATINGA_01-01-2023_A_31-12-2023.CSV  \n  inflating: /tmp/inmet_descompactado/INMET_CO_MT_A933_ITIQUIRA_01-01-2023_A_31-12-2023.CSV  \n  inflating: /tmp/inmet_descompactado/INMET_CO_MT_A934_ALTO TAQUARI_01-01-2023_A_31-12-2023.CSV  \n  inflating: /tmp/inmet_descompactado/INMET_CO_MT_A935_PORTO ESTRELA_01-01-2023_A_31-12-2023.CSV  \n  inflating: /tmp/inmet_descompactado/INMET_CO_MT_A936_SALTO DO CEU_01-01-2023_A_31-12-2023.CSV  \n  inflating: /tmp/inmet_descompactado/INMET_CO_MT_A937_PONTES E LACERDA_01-01-2023_A_31-12-2023.CSV  \n  inflating: /tmp/inmet_descompactado/INMET_CO_MT_A942_SAO JOSE DO XINGU_01-01-2023_A_31-12-2023.CSV  \n  inflating: /tmp/inmet_descompactado/INMET_CO_MT_A943_SERRA NOVA DOURADA_01-01-2023_A_31-12-2023.CSV  \n  inflating: /tmp/inmet_descompactado/INMET_CO_MT_A944_ROSARIO OESTE_01-01-2023_A_31-12-2023.CSV  \n  inflating: /tmp/inmet_descompactado/INMET_N_AC_A102_PARQUE ESTADUAL CHANDLESS_01-01-2023_A_31-12-2023.CSV  \n  inflating: /tmp/inmet_descompactado/INMET_N_AC_A104_RIO BRANCO_01-01-2023_A_31-12-2023.CSV  \n  inflating: /tmp/inmet_descompactado/INMET_N_AC_A108_CRUZEIRO DO SUL_01-01-2023_A_31-12-2023.CSV  \n  inflating: /tmp/inmet_descompactado/INMET_N_AC_A136_PORTO WALTER_01-01-2023_A_31-12-2023.CSV  \n  inflating: /tmp/inmet_descompactado/INMET_N_AC_A137_MARECHAL THAUMATURGO_01-01-2023_A_31-12-2023.CSV  \n  inflating: /tmp/inmet_descompactado/INMET_N_AC_A138_FEIJO_01-01-2023_A_31-12-2023.CSV  \n  inflating: /tmp/inmet_descompactado/INMET_N_AC_A140_EPITACIOLANDIA_01-01-2023_A_31-12-2023.CSV  \n  inflating: /tmp/inmet_descompactado/INMET_N_AM_A101_MANAUS_01-01-2023_A_31-12-2023.CSV  \n  inflating: /tmp/inmet_descompactado/INMET_N_AM_A109_EIRUNEPE_01-01-2023_A_31-12-2023.CSV  \n  inflating: /tmp/inmet_descompactado/INMET_N_AM_A110_BOCA DO ACRE_01-01-2023_A_31-12-2023.CSV  \n  inflating: /tmp/inmet_descompactado/INMET_N_AM_A111_LABREA_01-01-2023_A_31-12-2023.CSV  \n  inflating: /tmp/inmet_descompactado/INMET_N_AM_A112_HUMAITA_01-01-2023_A_31-12-2023.CSV  \n  inflating: /tmp/inmet_descompactado/INMET_N_AM_A113_APUI_01-01-2023_A_31-12-2023.CSV  \n  inflating: /tmp/inmet_descompactado/INMET_N_AM_A117_COARI_01-01-2023_A_31-12-2023.CSV  \n  inflating: /tmp/inmet_descompactado/INMET_N_AM_A119_MANACAPURU_01-01-2023_A_31-12-2023.CSV  \n  inflating: /tmp/inmet_descompactado/INMET_N_AM_A120_AUTAZES_01-01-2023_A_31-12-2023.CSV  \n  inflating: /tmp/inmet_descompactado/INMET_N_AM_A121_ITACOATIARA_01-01-2023_A_31-12-2023.CSV  \n  inflating: /tmp/inmet_descompactado/INMET_N_AM_A122_MAUES_01-01-2023_A_31-12-2023.CSV  \n  inflating: /tmp/inmet_descompactado/INMET_N_AM_A123_PARINTINS_01-01-2023_A_31-12-2023.CSV  \n  inflating: /tmp/inmet_descompactado/INMET_N_AM_A124_URUCARA_01-01-2023_A_31-12-2023.CSV  \n  inflating: /tmp/inmet_descompactado/INMET_N_AM_A125_RIO URUBU_01-01-2023_A_31-12-2023.CSV  \n  inflating: /tmp/inmet_descompactado/INMET_N_AM_A126_PRESIDENTE FIGUEIREDO_01-01-2023_A_31-12-2023.CSV  \n  inflating: /tmp/inmet_descompactado/INMET_N_AM_A128_BARCELOS_01-01-2023_A_31-12-2023.CSV  \n  inflating: /tmp/inmet_descompactado/INMET_N_AM_A133_MANICORE_01-01-2023_A_31-12-2023.CSV  \n  inflating: /tmp/inmet_descompactado/INMET_N_AM_A134_S. G. DA CACHOEIRA_01-01-2023_A_31-12-2023.CSV  \n  inflating: /tmp/inmet_descompactado/INMET_N_AM_A144_NOVO ARIPUANA_01-01-2023_A_31-12-2023.CSV  \n  inflating: /tmp/inmet_descompactado/INMET_N_AP_A242_OIAPOQUE_01-01-2023_A_31-12-2023.CSV  \n  inflating: /tmp/inmet_descompactado/INMET_N_AP_A244_PORTO GRANDE_01-01-2023_A_31-12-2023.CSV  \n  inflating: /tmp/inmet_descompactado/INMET_N_AP_A249_MACAPA_01-01-2023_A_31-12-2023.CSV  \n  inflating: /tmp/inmet_descompactado/INMET_N_AP_A251_ITAUBAL_01-01-2023_A_31-12-2023.CSV  \n  inflating: /tmp/inmet_descompactado/INMET_NE_AL_A303_MACEIO_01-01-2023_A_31-12-2023.CSV  \n  inflating: /tmp/inmet_descompactado/INMET_NE_AL_A323_PAO DE ACUCAR_01-01-2023_A_31-12-2023.CSV  \n  inflating: /tmp/inmet_descompactado/INMET_NE_AL_A327_PALMEIRA DOS INDIOS_01-01-2023_A_31-12-2023.CSV  \n  inflating: /tmp/inmet_descompactado/INMET_NE_AL_A353_ARAPIRACA_01-01-2023_A_31-12-2023.CSV  \n  inflating: /tmp/inmet_descompactado/INMET_NE_AL_A355_CORURIPE_01-01-2023_A_31-12-2023.CSV  \n  inflating: /tmp/inmet_descompactado/INMET_NE_AL_A356_SAO LUIS DO QUITUNDE_01-01-2023_A_31-12-2023.CSV  \n  inflating: /tmp/inmet_descompactado/INMET_NE_AL_A371_PIRANHAS_01-01-2023_A_31-12-2023.CSV  \n  inflating: /tmp/inmet_descompactado/INMET_NE_BA_A401_SALVADOR_01-01-2023_A_31-12-2023.CSV  \n  inflating: /tmp/inmet_descompactado/INMET_NE_BA_A402_BARREIRAS_01-01-2023_A_31-12-2023.CSV  \n  inflating: /tmp/inmet_descompactado/INMET_NE_BA_A404_LUIZ EDUARDO MAGALHAES_01-01-2023_A_31-12-2023.CSV  \n  inflating: /tmp/inmet_descompactado/INMET_NE_BA_A405_CARAVELAS_01-01-2023_A_31-12-2023.CSV  \n  inflating: /tmp/inmet_descompactado/INMET_NE_BA_A406_CRUZ DAS ALMAS_01-01-2023_A_31-12-2023.CSV  \n  inflating: /tmp/inmet_descompactado/INMET_NE_BA_A407_ITIRUCU_01-01-2023_A_31-12-2023.CSV  \n  inflating: /tmp/inmet_descompactado/INMET_NE_BA_A408_ITABERABA_01-01-2023_A_31-12-2023.CSV  \n  inflating: /tmp/inmet_descompactado/INMET_NE_BA_A410_ILHEUS_01-01-2023_A_31-12-2023.CSV  \n  inflating: /tmp/inmet_descompactado/INMET_NE_BA_A412_MACAJUBA_01-01-2023_A_31-12-2023.CSV  \n  inflating: /tmp/inmet_descompactado/INMET_NE_BA_A413_FEIRA DE SANTANA_01-01-2023_A_31-12-2023.CSV  \n  inflating: /tmp/inmet_descompactado/INMET_NE_BA_A414_VITORIA DA CONQUISTA_01-01-2023_A_31-12-2023.CSV  \n  inflating: /tmp/inmet_descompactado/INMET_NE_BA_A415_SANTA RITA DE CASSIA_01-01-2023_A_31-12-2023.CSV  \n  inflating: /tmp/inmet_descompactado/INMET_NE_BA_A416_CORRENTINA_01-01-2023_A_31-12-2023.CSV  \n  inflating: /tmp/inmet_descompactado/INMET_NE_BA_A418_BOM JESUS DA LAPA_01-01-2023_A_31-12-2023.CSV  \n  inflating: /tmp/inmet_descompactado/INMET_NE_BA_A422_ABROLHOS_01-01-2023_A_31-12-2023.CSV  \n  inflating: /tmp/inmet_descompactado/INMET_NE_BA_A423_REMANSO_01-01-2023_A_31-12-2023.CSV  \n  inflating: /tmp/inmet_descompactado/INMET_NE_BA_A424_IRECE_01-01-2023_A_31-12-2023.CSV  \n  inflating: /tmp/inmet_descompactado/INMET_NE_BA_A425_LENCOIS_01-01-2023_A_31-12-2023.CSV  \n  inflating: /tmp/inmet_descompactado/INMET_NE_BA_A426_GUANAMBI_01-01-2023_A_31-12-2023.CSV  \n  inflating: /tmp/inmet_descompactado/INMET_NE_BA_A427_PORTO SEGURO_01-01-2023_A_31-12-2023.CSV  \n  inflating: /tmp/inmet_descompactado/INMET_NE_BA_A428_SENHOR DO BONFIM_01-01-2023_A_31-12-2023.CSV  \n  inflating: /tmp/inmet_descompactado/INMET_NE_BA_A429_BARRA_01-01-2023_A_31-12-2023.CSV  \n  inflating: /tmp/inmet_descompactado/INMET_NE_BA_A430_PIATA_01-01-2023_A_31-12-2023.CSV  \n  inflating: /tmp/inmet_descompactado/INMET_NE_BA_A431_CONDE_01-01-2023_A_31-12-2023.CSV  \n  inflating: /tmp/inmet_descompactado/INMET_NE_BA_A432_BURITIRAMA_01-01-2023_A_31-12-2023.CSV  \n  inflating: /tmp/inmet_descompactado/INMET_NE_BA_A433_BRUMADO_01-01-2023_A_31-12-2023.CSV  \n  inflating: /tmp/inmet_descompactado/INMET_NE_BA_A434_AMARGOSA_01-01-2023_A_31-12-2023.CSV  \n  inflating: /tmp/inmet_descompactado/INMET_NE_BA_A436_QUEIMADAS_01-01-2023_A_31-12-2023.CSV  \n  inflating: /tmp/inmet_descompactado/INMET_NE_BA_A437_UNA_01-01-2023_A_31-12-2023.CSV  \n  inflating: /tmp/inmet_descompactado/INMET_NE_BA_A438_MARAU_01-01-2023_A_31-12-2023.CSV  \n  inflating: /tmp/inmet_descompactado/INMET_NE_BA_A439_IBOTIRAMA_01-01-2023_A_31-12-2023.CSV  \n  inflating: /tmp/inmet_descompactado/INMET_NE_BA_A440_JACOBINA_01-01-2023_A_31-12-2023.CSV  \n  inflating: /tmp/inmet_descompactado/INMET_NE_BA_A441_SERRINHA_01-01-2023_A_31-12-2023.CSV  \n  inflating: /tmp/inmet_descompactado/INMET_NE_BA_A442_EUCLIDES DA CUNHA_01-01-2023_A_31-12-2023.CSV  \n  inflating: /tmp/inmet_descompactado/INMET_NE_BA_A443_DELFINO_01-01-2023_A_31-12-2023.CSV  \n  inflating: /tmp/inmet_descompactado/INMET_NE_BA_A444_VALENCA_01-01-2023_A_31-12-2023.CSV  \n  inflating: /tmp/inmet_descompactado/INMET_NE_BA_A445_IPIAU_01-01-2023_A_31-12-2023.CSV  \n  inflating: /tmp/inmet_descompactado/INMET_NE_BA_A446_ITAPETINGA_01-01-2023_A_31-12-2023.CSV  \n  inflating: /tmp/inmet_descompactado/INMET_NE_BA_A447_BELMONTE_01-01-2023_A_31-12-2023.CSV  \n  inflating: /tmp/inmet_descompactado/INMET_NE_BA_A448_CURACA_01-01-2023_A_31-12-2023.CSV  \n  inflating: /tmp/inmet_descompactado/INMET_NE_BA_A450_JEREMOABO_01-01-2023_A_31-12-2023.CSV  \n  inflating: /tmp/inmet_descompactado/INMET_NE_BA_A452_FORMOSA DO RIO PRETO_01-01-2023_A_31-12-2023.CSV  \n  inflating: /tmp/inmet_descompactado/INMET_NE_BA_A455_ITAMARAJU_01-01-2023_A_31-12-2023.CSV  \n  inflating: /tmp/inmet_descompactado/INMET_NE_BA_A456_SALVADOR (RADIO FAROL)_01-01-2023_A_31-12-2023.CSV  \n  inflating: /tmp/inmet_descompactado/INMET_NE_BA_A458_RIBEIRA DO AMPARO_01-01-2023_A_31-12-2023.CSV  \n  inflating: /tmp/inmet_descompactado/INMET_NE_CE_A305_FORTALEZA_01-01-2023_A_31-12-2023.CSV  \n  inflating: /tmp/inmet_descompactado/INMET_NE_CE_A306_SOBRAL_01-01-2023_A_31-12-2023.CSV  \n  inflating: /tmp/inmet_descompactado/INMET_NE_CE_A314_GUARAMIRANGA_01-01-2023_A_31-12-2023.CSV  \n  inflating: /tmp/inmet_descompactado/INMET_NE_CE_A315_BARBALHA_01-01-2023_A_31-12-2023.CSV  \n  inflating: /tmp/inmet_descompactado/INMET_NE_CE_A319_IGUATU_01-01-2023_A_31-12-2023.CSV  \n  inflating: /tmp/inmet_descompactado/INMET_NE_CE_A324_TAUA_01-01-2023_A_31-12-2023.CSV  \n  inflating: /tmp/inmet_descompactado/INMET_NE_CE_A325_QUIXERAMOBIM_01-01-2023_A_31-12-2023.CSV  \n  inflating: /tmp/inmet_descompactado/INMET_NE_CE_A332_MORADA NOVA_01-01-2023_A_31-12-2023.CSV  \n  inflating: /tmp/inmet_descompactado/INMET_NE_CE_A339_JAGUARUANA_01-01-2023_A_31-12-2023.CSV  \n  inflating: /tmp/inmet_descompactado/INMET_NE_CE_A342_CRATEUS_01-01-2023_A_31-12-2023.CSV  \n  inflating: /tmp/inmet_descompactado/INMET_NE_CE_A347_CAMPOS SALES_01-01-2023_A_31-12-2023.CSV  \n  inflating: /tmp/inmet_descompactado/INMET_NE_CE_A358_JAGUARIBE_01-01-2023_A_31-12-2023.CSV  \n  inflating: /tmp/inmet_descompactado/INMET_NE_CE_A359_ITAPIPOCA_01-01-2023_A_31-12-2023.CSV  \n  inflating: /tmp/inmet_descompactado/INMET_NE_CE_A360_ACARAU_01-01-2023_A_31-12-2023.CSV  \n  inflating: /tmp/inmet_descompactado/INMET_NE_CE_A368_TIANGUA_01-01-2023_A_31-12-2023.CSV  \n  inflating: /tmp/inmet_descompactado/INMET_NE_CE_A369_QUIXADA_01-01-2023_A_31-12-2023.CSV  \n  inflating: /tmp/inmet_descompactado/INMET_NE_MA_A203_SAO LUIS_01-01-2023_A_31-12-2023.CSV  \n  inflating: /tmp/inmet_descompactado/INMET_NE_MA_A204_BALSAS_01-01-2023_A_31-12-2023.CSV  \n  inflating: /tmp/inmet_descompactado/INMET_NE_MA_A205_CAROLINA_01-01-2023_A_31-12-2023.CSV  \n  inflating: /tmp/inmet_descompactado/INMET_NE_MA_A206_CHAPADINHA_01-01-2023_A_31-12-2023.CSV  \n  inflating: /tmp/inmet_descompactado/INMET_NE_MA_A207_GRAJAU_01-01-2023_A_31-12-2023.CSV  \n  inflating: /tmp/inmet_descompactado/INMET_NE_MA_A217_FAROL de SANTANA_01-01-2023_A_31-12-2023.CSV  \n  inflating: /tmp/inmet_descompactado/INMET_NE_MA_A218_PREGUICAS_01-01-2023_A_31-12-2023.CSV  \n  inflating: /tmp/inmet_descompactado/INMET_NE_MA_A219_TURIACU_01-01-2023_A_31-12-2023.CSV  \n  inflating: /tmp/inmet_descompactado/INMET_NE_MA_A220_BACABAL_01-01-2023_A_31-12-2023.CSV  \n  inflating: /tmp/inmet_descompactado/INMET_NE_MA_A221_BARRA DO CORDA_01-01-2023_A_31-12-2023.CSV  \n  inflating: /tmp/inmet_descompactado/INMET_NE_MA_A222_COLINAS_01-01-2023_A_31-12-2023.CSV  \n  inflating: /tmp/inmet_descompactado/INMET_NE_MA_A223_ALTO PARNAIBA_01-01-2023_A_31-12-2023.CSV  \n  inflating: /tmp/inmet_descompactado/INMET_NE_MA_A224_ESTREITO_01-01-2023_A_31-12-2023.CSV  \n  inflating: /tmp/inmet_descompactado/INMET_NE_MA_A225_IMPERATRIZ_01-01-2023_A_31-12-2023.CSV  \n  inflating: /tmp/inmet_descompactado/INMET_NE_MA_A237_CAXIAS_01-01-2023_A_31-12-2023.CSV  \n  inflating: /tmp/inmet_descompactado/INMET_NE_MA_A238_BURITICUPU_01-01-2023_A_31-12-2023.CSV  \n  inflating: /tmp/inmet_descompactado/INMET_NE_MA_A255_ZE DOCA_01-01-2023_A_31-12-2023.CSV  \n  inflating: /tmp/inmet_descompactado/INMET_NE_PB_A310_AREIA_01-01-2023_A_31-12-2023.CSV  \n  inflating: /tmp/inmet_descompactado/INMET_NE_PB_A313_CAMPINA GRANDE_01-01-2023_A_31-12-2023.CSV  \n  inflating: /tmp/inmet_descompactado/INMET_NE_PB_A320_JOAO PESSOA_01-01-2023_A_31-12-2023.CSV  \n  inflating: /tmp/inmet_descompactado/INMET_NE_PB_A321_PATOS_01-01-2023_A_31-12-2023.CSV  \n  inflating: /tmp/inmet_descompactado/INMET_NE_PB_A333_SAO GONCALO_01-01-2023_A_31-12-2023.CSV  \n  inflating: /tmp/inmet_descompactado/INMET_NE_PB_A334_MONTEIRO_01-01-2023_A_31-12-2023.CSV  \n  inflating: /tmp/inmet_descompactado/INMET_NE_PB_A348_CABACEIRAS_01-01-2023_A_31-12-2023.CSV  \n  inflating: /tmp/inmet_descompactado/INMET_NE_PB_A352_CAMARATUBA_01-01-2023_A_31-12-2023.CSV  \n  inflating: /tmp/inmet_descompactado/INMET_NE_PB_A373_ITAPORANGA_01-01-2023_A_31-12-2023.CSV  \n  inflating: /tmp/inmet_descompactado/INMET_NE_PE_A301_RECIFE_01-01-2023_A_31-12-2023.CSV  \n  inflating: /tmp/inmet_descompactado/INMET_NE_PE_A307_PETROLINA_01-01-2023_A_31-12-2023.CSV  \n  inflating: /tmp/inmet_descompactado/INMET_NE_PE_A309_ARCO VERDE_01-01-2023_A_31-12-2023.CSV  \n  inflating: /tmp/inmet_descompactado/INMET_NE_PE_A322_GARANHUNS_01-01-2023_A_31-12-2023.CSV  \n  inflating: /tmp/inmet_descompactado/INMET_NE_PE_A328_SURUBIM_01-01-2023_A_31-12-2023.CSV  \n  inflating: /tmp/inmet_descompactado/INMET_NE_PE_A329_CABROBO_01-01-2023_A_31-12-2023.CSV  \n  inflating: /tmp/inmet_descompactado/INMET_NE_PE_A341_CARUARU_01-01-2023_A_31-12-2023.CSV  \n  inflating: /tmp/inmet_descompactado/INMET_NE_PE_A349_IBIMIRIM_01-01-2023_A_31-12-2023.CSV  \n  inflating: /tmp/inmet_descompactado/INMET_NE_PE_A350_SERRA TALHADA_01-01-2023_A_31-12-2023.CSV  \n  inflating: /tmp/inmet_descompactado/INMET_NE_PE_A351_FLORESTA_01-01-2023_A_31-12-2023.CSV  \n  inflating: /tmp/inmet_descompactado/INMET_NE_PE_A357_PALMARES_01-01-2023_A_31-12-2023.CSV  \n  inflating: /tmp/inmet_descompactado/INMET_NE_PE_A366_OURICURI_01-01-2023_A_31-12-2023.CSV  \n  inflating: /tmp/inmet_descompactado/INMET_NE_PE_A370_SALGUEIRO_01-01-2023_A_31-12-2023.CSV  \n  inflating: /tmp/inmet_descompactado/INMET_NE_PI_A308_PARNAIBA_01-01-2023_A_31-12-2023.CSV  \n  inflating: /tmp/inmet_descompactado/INMET_NE_PI_A311_FLORIANO_01-01-2023_A_31-12-2023.CSV  \n  inflating: /tmp/inmet_descompactado/INMET_NE_PI_A312_TERESINA_01-01-2023_A_31-12-2023.CSV  \n  inflating: /tmp/inmet_descompactado/INMET_NE_PI_A326_BOM JESUS DO PIAUI_01-01-2023_A_31-12-2023.CSV  \n  inflating: /tmp/inmet_descompactado/INMET_NE_PI_A330_PAULISTANA_01-01-2023_A_31-12-2023.CSV  \n  inflating: /tmp/inmet_descompactado/INMET_NE_PI_A331_SAO JOAO DO PIAUI_01-01-2023_A_31-12-2023.CSV  \n  inflating: /tmp/inmet_descompactado/INMET_NE_PI_A335_PIRIPIRI_01-01-2023_A_31-12-2023.CSV  \n  inflating: /tmp/inmet_descompactado/INMET_NE_PI_A336_ALVORADA DO GURGUEIA_01-01-2023_A_31-12-2023.CSV  \n  inflating: /tmp/inmet_descompactado/INMET_NE_PI_A337_CARACOL_01-01-2023_A_31-12-2023.CSV  \n  inflating: /tmp/inmet_descompactado/INMET_NE_PI_A343_PICOS_01-01-2023_A_31-12-2023.CSV  \n  inflating: /tmp/inmet_descompactado/INMET_NE_PI_A345_SAO RAIMUNDO NONATO_01-01-2023_A_31-12-2023.CSV  \n  inflating: /tmp/inmet_descompactado/INMET_NE_PI_A346_URUCUI_01-01-2023_A_31-12-2023.CSV  \n  inflating: /tmp/inmet_descompactado/INMET_NE_PI_A354_OEIRAS_01-01-2023_A_31-12-2023.CSV  \n  inflating: /tmp/inmet_descompactado/INMET_NE_PI_A361_CASTELO DO PIAUI_01-01-2023_A_31-12-2023.CSV  \n  inflating: /tmp/inmet_descompactado/INMET_NE_PI_A363_VALENCA DO PIAUI_01-01-2023_A_31-12-2023.CSV  \n  inflating: /tmp/inmet_descompactado/INMET_NE_PI_A364_GILBUES_01-01-2023_A_31-12-2023.CSV  \n  inflating: /tmp/inmet_descompactado/INMET_NE_PI_A365_CANTO DO BURITI_01-01-2023_A_31-12-2023.CSV  \n  inflating: /tmp/inmet_descompactado/INMET_NE_PI_A374_CORRENTE_01-01-2023_A_31-12-2023.CSV  \n  inflating: /tmp/inmet_descompactado/INMET_NE_PI_A375_BAIXA GRANDE DO RIBEIRO_01-01-2023_A_31-12-2023.CSV  \n  inflating: /tmp/inmet_descompactado/INMET_NE_PI_A376_CAMPO MAIOR_01-01-2023_A_31-12-2023.CSV  \n  inflating: /tmp/inmet_descompactado/INMET_NE_PI_A377_ANGICAL DO PIAUI_01-01-2023_A_31-12-2023.CSV  \n  inflating: /tmp/inmet_descompactado/INMET_NE_RN_A304_NATAL_01-01-2023_A_31-12-2023.CSV  \n  inflating: /tmp/inmet_descompactado/INMET_NE_RN_A316_CAICO_01-01-2023_A_31-12-2023.CSV  \n  inflating: /tmp/inmet_descompactado/INMET_NE_RN_A317_MACAU_01-01-2023_A_31-12-2023.CSV  \n  inflating: /tmp/inmet_descompactado/INMET_NE_RN_A318_MOSSORO_01-01-2023_A_31-12-2023.CSV  \n  inflating: /tmp/inmet_descompactado/INMET_NE_RN_A340_APODI_01-01-2023_A_31-12-2023.CSV  \n  inflating: /tmp/inmet_descompa\n\n*** WARNING: max output size exceeded, skipping output. ***\n\nmp/inmet_descompactado/INMET_N_TO_A021_ARAGUAINA_01-01-2023_A_31-12-2023.CSV  \n  inflating: /tmp/inmet_descompactado/INMET_N_TO_A038_DIANOPOLIS_01-01-2023_A_31-12-2023.CSV  \n  inflating: /tmp/inmet_descompactado/INMET_N_TO_A039_FORMOSO DO ARAGUAIA_01-01-2023_A_31-12-2023.CSV  \n  inflating: /tmp/inmet_descompactado/INMET_N_TO_A040_MATEIROS_01-01-2023_A_31-12-2023.CSV  \n  inflating: /tmp/inmet_descompactado/INMET_N_TO_A041_MARIANOPOLIS DO TO_01-01-2023_A_31-12-2023.CSV  \n  inflating: /tmp/inmet_descompactado/INMET_N_TO_A043_CAMPOS LINDOS_01-01-2023_A_31-12-2023.CSV  \n  inflating: /tmp/inmet_descompactado/INMET_N_TO_A044_ARAGUATINS_01-01-2023_A_31-12-2023.CSV  \n  inflating: /tmp/inmet_descompactado/INMET_N_TO_A048_SANTA FE DO ARAGUAIA_01-01-2023_A_31-12-2023.CSV  \n  inflating: /tmp/inmet_descompactado/INMET_N_TO_A049_COLINAS DO TOCANTINS_01-01-2023_A_31-12-2023.CSV  \n  inflating: /tmp/inmet_descompactado/INMET_N_TO_A050_RIO SONO_01-01-2023_A_31-12-2023.CSV  \n  inflating: /tmp/inmet_descompactado/INMET_N_TO_A051_PIUM_01-01-2023_A_31-12-2023.CSV  \n  inflating: /tmp/inmet_descompactado/INMET_N_TO_A052_SANTA ROSA DO TOCANTINS_01-01-2023_A_31-12-2023.CSV  \n  inflating: /tmp/inmet_descompactado/INMET_N_TO_A053_ALMAS_01-01-2023_A_31-12-2023.CSV  \n  inflating: /tmp/inmet_descompactado/INMET_N_TO_A054_ARAGUACU_01-01-2023_A_31-12-2023.CSV  \n  inflating: /tmp/inmet_descompactado/INMET_N_TO_A055_LAGOA DA CONFUSAO_01-01-2023_A_31-12-2023.CSV  \n  inflating: /tmp/inmet_descompactado/INMET_SE_ES_A612_VITORIA_01-01-2023_A_31-12-2023.CSV  \n  inflating: /tmp/inmet_descompactado/INMET_SE_ES_A613_SANTA TERESA_01-01-2023_A_31-12-2023.CSV  \n  inflating: /tmp/inmet_descompactado/INMET_SE_ES_A614_LINHARES_01-01-2023_A_31-12-2023.CSV  \n  inflating: /tmp/inmet_descompactado/INMET_SE_ES_A615_ALFREDO CHAVES_01-01-2023_A_31-12-2023.CSV  \n  inflating: /tmp/inmet_descompactado/INMET_SE_ES_A616_SAO MATEUS_01-01-2023_A_31-12-2023.CSV  \n  inflating: /tmp/inmet_descompactado/INMET_SE_ES_A617_ALEGRE_01-01-2023_A_31-12-2023.CSV  \n  inflating: /tmp/inmet_descompactado/INMET_SE_ES_A622_PRESIDENTE KENNEDY_01-01-2023_A_31-12-2023.CSV  \n  inflating: /tmp/inmet_descompactado/INMET_SE_ES_A631_ECOPORANGA_01-01-2023_A_31-12-2023.CSV  \n  inflating: /tmp/inmet_descompactado/INMET_SE_ES_A632_MARILANDIA_01-01-2023_A_31-12-2023.CSV  \n  inflating: /tmp/inmet_descompactado/INMET_SE_ES_A633_VENDA NOVA DO IMIGRANTE_01-01-2023_A_31-12-2023.CSV  \n  inflating: /tmp/inmet_descompactado/INMET_SE_ES_A634_VILA VELHA_01-01-2023_A_31-12-2023.CSV  \n  inflating: /tmp/inmet_descompactado/INMET_SE_ES_A657_AFONSO CLAUDIO_01-01-2023_A_31-12-2023.CSV  \n  inflating: /tmp/inmet_descompactado/INMET_SE_MG_A502_BARBACENA_01-01-2023_A_31-12-2023.CSV  \n  inflating: /tmp/inmet_descompactado/INMET_SE_MG_A505_ARAXA_01-01-2023_A_31-12-2023.CSV  \n  inflating: /tmp/inmet_descompactado/INMET_SE_MG_A506_MONTES CLAROS_01-01-2023_A_31-12-2023.CSV  \n  inflating: /tmp/inmet_descompactado/INMET_SE_MG_A507_UBERLANDIA_01-01-2023_A_31-12-2023.CSV  \n  inflating: /tmp/inmet_descompactado/INMET_SE_MG_A508_ALMENARA_01-01-2023_A_31-12-2023.CSV  \n  inflating: /tmp/inmet_descompactado/INMET_SE_MG_A509_MONTE VERDE_01-01-2023_A_31-12-2023.CSV  \n  inflating: /tmp/inmet_descompactado/INMET_SE_MG_A510_VICOSA_01-01-2023_A_31-12-2023.CSV  \n  inflating: /tmp/inmet_descompactado/INMET_SE_MG_A511_TIMOTEO_01-01-2023_A_31-12-2023.CSV  \n  inflating: /tmp/inmet_descompactado/INMET_SE_MG_A512_ITUIUTABA_01-01-2023_A_31-12-2023.CSV  \n  inflating: /tmp/inmet_descompactado/INMET_SE_MG_A513_OURO BRANCO_01-01-2023_A_31-12-2023.CSV  \n  inflating: /tmp/inmet_descompactado/INMET_SE_MG_A514_SAO JOAO DEL REI_01-01-2023_A_31-12-2023.CSV  \n  inflating: /tmp/inmet_descompactado/INMET_SE_MG_A515_VARGINHA_01-01-2023_A_31-12-2023.CSV  \n  inflating: /tmp/inmet_descompactado/INMET_SE_MG_A516_PASSOS_01-01-2023_A_31-12-2023.CSV  \n  inflating: /tmp/inmet_descompactado/INMET_SE_MG_A517_MURIAE_01-01-2023_A_31-12-2023.CSV  \n  inflating: /tmp/inmet_descompactado/INMET_SE_MG_A518_JUIZ DE FORA_01-01-2023_A_31-12-2023.CSV  \n  inflating: /tmp/inmet_descompactado/INMET_SE_MG_A519_CAMPINA VERDE_01-01-2023_A_31-12-2023.CSV  \n  inflating: /tmp/inmet_descompactado/INMET_SE_MG_A520_CONCEICAO DAS ALAGOAS_01-01-2023_A_31-12-2023.CSV  \n  inflating: /tmp/inmet_descompactado/INMET_SE_MG_A521_BELO HORIZONTE (PAMPULHA)_01-01-2023_A_31-12-2023.CSV  \n  inflating: /tmp/inmet_descompactado/INMET_SE_MG_A522_SERRA DOS AIMORES_01-01-2023_A_31-12-2023.CSV  \n  inflating: /tmp/inmet_descompactado/INMET_SE_MG_A523_PATROCINIO_01-01-2023_A_31-12-2023.CSV  \n  inflating: /tmp/inmet_descompactado/INMET_SE_MG_A524_FORMIGA_01-01-2023_A_31-12-2023.CSV  \n  inflating: /tmp/inmet_descompactado/INMET_SE_MG_A525_SACRAMENTO_01-01-2023_A_31-12-2023.CSV  \n  inflating: /tmp/inmet_descompactado/INMET_SE_MG_A526_MONTALVANIA_01-01-2023_A_31-12-2023.CSV  \n  inflating: /tmp/inmet_descompactado/INMET_SE_MG_A527_TEOFILO OTONI_01-01-2023_A_31-12-2023.CSV  \n  inflating: /tmp/inmet_descompactado/INMET_SE_MG_A528_TRES MARIAS_01-01-2023_A_31-12-2023.CSV  \n  inflating: /tmp/inmet_descompactado/INMET_SE_MG_A529_PASSA QUATRO_01-01-2023_A_31-12-2023.CSV  \n  inflating: /tmp/inmet_descompactado/INMET_SE_MG_A530_CALDAS_01-01-2023_A_31-12-2023.CSV  \n  inflating: /tmp/inmet_descompactado/INMET_SE_MG_A531_MARIA DA FE_01-01-2023_A_31-12-2023.CSV  \n  inflating: /tmp/inmet_descompactado/INMET_SE_MG_A532_GOVERNADOR VALADARES_01-01-2023_A_31-12-2023.CSV  \n  inflating: /tmp/inmet_descompactado/INMET_SE_MG_A533_GUANHAES_01-01-2023_A_31-12-2023.CSV  \n  inflating: /tmp/inmet_descompactado/INMET_SE_MG_A534_AIMORES_01-01-2023_A_31-12-2023.CSV  \n  inflating: /tmp/inmet_descompactado/INMET_SE_MG_A535_FLORESTAL_01-01-2023_A_31-12-2023.CSV  \n  inflating: /tmp/inmet_descompactado/INMET_SE_MG_A536_DORES DO INDAIA_01-01-2023_A_31-12-2023.CSV  \n  inflating: /tmp/inmet_descompactado/INMET_SE_MG_A537_DIAMANTINA_01-01-2023_A_31-12-2023.CSV  \n  inflating: /tmp/inmet_descompactado/INMET_SE_MG_A538_CURVELO_01-01-2023_A_31-12-2023.CSV  \n  inflating: /tmp/inmet_descompactado/INMET_SE_MG_A539_MOCAMBINHO_01-01-2023_A_31-12-2023.CSV  \n  inflating: /tmp/inmet_descompactado/INMET_SE_MG_A540_MANTENA_01-01-2023_A_31-12-2023.CSV  \n  inflating: /tmp/inmet_descompactado/INMET_SE_MG_A541_CAPELINHA_01-01-2023_A_31-12-2023.CSV  \n  inflating: /tmp/inmet_descompactado/INMET_SE_MG_A542_UNAI_01-01-2023_A_31-12-2023.CSV  \n  inflating: /tmp/inmet_descompactado/INMET_SE_MG_A543_ESPINOSA_01-01-2023_A_31-12-2023.CSV  \n  inflating: /tmp/inmet_descompactado/INMET_SE_MG_A544_BURITIS_01-01-2023_A_31-12-2023.CSV  \n  inflating: /tmp/inmet_descompactado/INMET_SE_MG_A545_PIRAPORA_01-01-2023_A_31-12-2023.CSV  \n  inflating: /tmp/inmet_descompactado/INMET_SE_MG_A546_GUARDA-MOR_01-01-2023_A_31-12-2023.CSV  \n  inflating: /tmp/inmet_descompactado/INMET_SE_MG_A547_SAO ROMAO_01-01-2023_A_31-12-2023.CSV  \n  inflating: /tmp/inmet_descompactado/INMET_SE_MG_A548_CHAPADA GAUCHA_01-01-2023_A_31-12-2023.CSV  \n  inflating: /tmp/inmet_descompactado/INMET_SE_MG_A549_AGUAS VERMELHAS_01-01-2023_A_31-12-2023.CSV  \n  inflating: /tmp/inmet_descompactado/INMET_SE_MG_A550_ITAOBIM_01-01-2023_A_31-12-2023.CSV  \n  inflating: /tmp/inmet_descompactado/INMET_SE_MG_A551_RIO PARDO DE MINAS_01-01-2023_A_31-12-2023.CSV  \n  inflating: /tmp/inmet_descompactado/INMET_SE_MG_A552_SALINAS_01-01-2023_A_31-12-2023.CSV  \n  inflating: /tmp/inmet_descompactado/INMET_SE_MG_A553_JOAO PINHEIRO_01-01-2023_A_31-12-2023.CSV  \n  inflating: /tmp/inmet_descompactado/INMET_SE_MG_A554_CARATINGA_01-01-2023_A_31-12-2023.CSV  \n  inflating: /tmp/inmet_descompactado/INMET_SE_MG_A555_IBIRITE (ROLA MOCA)_01-01-2023_A_31-12-2023.CSV  \n  inflating: /tmp/inmet_descompactado/INMET_SE_MG_A556_MANHUACU_01-01-2023_A_31-12-2023.CSV  \n  inflating: /tmp/inmet_descompactado/INMET_SE_MG_A557_CORONEL PACHECO_01-01-2023_A_31-12-2023.CSV  \n  inflating: /tmp/inmet_descompactado/INMET_SE_MG_A559_JANUARIA_01-01-2023_A_31-12-2023.CSV  \n  inflating: /tmp/inmet_descompactado/INMET_SE_MG_A560_POMPEU_01-01-2023_A_31-12-2023.CSV  \n  inflating: /tmp/inmet_descompactado/INMET_SE_MG_A561_SAO SEBASTIAO DO PARAISO_01-01-2023_A_31-12-2023.CSV  \n  inflating: /tmp/inmet_descompactado/INMET_SE_MG_A562_PATOS DE MINAS_01-01-2023_A_31-12-2023.CSV  \n  inflating: /tmp/inmet_descompactado/INMET_SE_MG_A563_NOVA PORTEIRINHA (JANAUBA)_01-01-2023_A_31-12-2023.CSV  \n  inflating: /tmp/inmet_descompactado/INMET_SE_MG_A564_DIVINOPOLIS_01-01-2023_A_31-12-2023.CSV  \n  inflating: /tmp/inmet_descompactado/INMET_SE_MG_A565_BAMBUI_01-01-2023_A_31-12-2023.CSV  \n  inflating: /tmp/inmet_descompactado/INMET_SE_MG_A566_ARACUAI_01-01-2023_A_31-12-2023.CSV  \n  inflating: /tmp/inmet_descompactado/INMET_SE_MG_A567_MACHADO_01-01-2023_A_31-12-2023.CSV  \n  inflating: /tmp/inmet_descompactado/INMET_SE_MG_A568_UBERABA_01-01-2023_A_31-12-2023.CSV  \n  inflating: /tmp/inmet_descompactado/INMET_SE_MG_A569_SETE LAGOAS_01-01-2023_A_31-12-2023.CSV  \n  inflating: /tmp/inmet_descompactado/INMET_SE_MG_A570_OLIVEIRA_01-01-2023_A_31-12-2023.CSV  \n  inflating: /tmp/inmet_descompactado/INMET_SE_MG_A571_PARACATU_01-01-2023_A_31-12-2023.CSV  \n  inflating: /tmp/inmet_descompactado/INMET_SE_MG_F501_BELO HORIZONTE - CERCADINHO_01-01-2023_A_31-12-2023.CSV  \n  inflating: /tmp/inmet_descompactado/INMET_SE_RJ_A601_SEROPEDICA-ECOLOGIA AGRICOLA_01-01-2023_A_31-12-2023.CSV  \n  inflating: /tmp/inmet_descompactado/INMET_SE_RJ_A602_RIO DE JANEIRO-MARAMBAIA_01-01-2023_A_31-12-2023.CSV  \n  inflating: /tmp/inmet_descompactado/INMET_SE_RJ_A603_DUQUE DE CAXIAS - XEREM_01-01-2023_A_31-12-2023.CSV  \n  inflating: /tmp/inmet_descompactado/INMET_SE_RJ_A604_CAMBUCI_01-01-2023_A_31-12-2023.CSV  \n  inflating: /tmp/inmet_descompactado/INMET_SE_RJ_A606_ARRAIAL DO CABO_01-01-2023_A_31-12-2023.CSV  \n  inflating: /tmp/inmet_descompactado/INMET_SE_RJ_A607_CAMPOS DOS GOYTACAZES_01-01-2023_A_31-12-2023.CSV  \n  inflating: /tmp/inmet_descompactado/INMET_SE_RJ_A608_MACAE_01-01-2023_A_31-12-2023.CSV  \n  inflating: /tmp/inmet_descompactado/INMET_SE_RJ_A609_RESENDE_01-01-2023_A_31-12-2023.CSV  \n  inflating: /tmp/inmet_descompactado/INMET_SE_RJ_A610_PICO DO COUTO_01-01-2023_A_31-12-2023.CSV  \n  inflating: /tmp/inmet_descompactado/INMET_SE_RJ_A611_VALENCA_01-01-2023_A_31-12-2023.CSV  \n  inflating: /tmp/inmet_descompactado/INMET_SE_RJ_A618_TERESOPOLIS-PARQUE NACIONAL_01-01-2023_A_31-12-2023.CSV  \n  inflating: /tmp/inmet_descompactado/INMET_SE_RJ_A619_PARATY_01-01-2023_A_31-12-2023.CSV  \n  inflating: /tmp/inmet_descompactado/INMET_SE_RJ_A620_CAMPOS DOS GOYTACAZES - SAO TOME_01-01-2023_A_31-12-2023.CSV  \n  inflating: /tmp/inmet_descompactado/INMET_SE_RJ_A621_RIO DE JANEIRO - VILA MILITAR_01-01-2023_A_31-12-2023.CSV  \n  inflating: /tmp/inmet_descompactado/INMET_SE_RJ_A624_NOVA FRIBURGO - SALINAS_01-01-2023_A_31-12-2023.CSV  \n  inflating: /tmp/inmet_descompactado/INMET_SE_RJ_A625_TRES RIOS_01-01-2023_A_31-12-2023.CSV  \n  inflating: /tmp/inmet_descompactado/INMET_SE_RJ_A626_RIO CLARO_01-01-2023_A_31-12-2023.CSV  \n  inflating: /tmp/inmet_descompactado/INMET_SE_RJ_A627_NITEROI_01-01-2023_A_31-12-2023.CSV  \n  inflating: /tmp/inmet_descompactado/INMET_SE_RJ_A628_ANGRA DOS REIS_01-01-2023_A_31-12-2023.CSV  \n  inflating: /tmp/inmet_descompactado/INMET_SE_RJ_A629_CARMO_01-01-2023_A_31-12-2023.CSV  \n  inflating: /tmp/inmet_descompactado/INMET_SE_RJ_A630_SANTA MARIA MADALENA_01-01-2023_A_31-12-2023.CSV  \n  inflating: /tmp/inmet_descompactado/INMET_SE_RJ_A636_RIO DE JANEIRO - JACAREPAGUA_01-01-2023_A_31-12-2023.CSV  \n  inflating: /tmp/inmet_descompactado/INMET_SE_RJ_A637_Paty do Alferes - Avelar_01-01-2023_A_31-12-2023.CSV  \n  inflating: /tmp/inmet_descompactado/INMET_SE_RJ_A652_RIO DE JANEIRO - FORTE DE COPACABANA_01-01-2023_A_31-12-2023.CSV  \n  inflating: /tmp/inmet_descompactado/INMET_SE_RJ_A659_SILVA JARDIM_01-01-2023_A_31-12-2023.CSV  \n  inflating: /tmp/inmet_descompactado/INMET_SE_RJ_A667_SAQUAREMA - SAMPAIO CORREIA_01-01-2023_A_31-12-2023.CSV  \n  inflating: /tmp/inmet_descompactado/INMET_SE_SP_A701_SAO PAULO - MIRANTE_01-01-2023_A_31-12-2023.CSV  \n  inflating: /tmp/inmet_descompactado/INMET_SE_SP_A705_BAURU_01-01-2023_A_31-12-2023.CSV  \n  inflating: /tmp/inmet_descompactado/INMET_SE_SP_A706_CAMPOS DO JORDAO_01-01-2023_A_31-12-2023.CSV  \n  inflating: /tmp/inmet_descompactado/INMET_SE_SP_A707_PRESIDENTE PRUDENTE_01-01-2023_A_31-12-2023.CSV  \n  inflating: /tmp/inmet_descompactado/INMET_SE_SP_A708_FRANCA_01-01-2023_A_31-12-2023.CSV  \n  inflating: /tmp/inmet_descompactado/INMET_SE_SP_A711_SAO CARLOS_01-01-2023_A_31-12-2023.CSV  \n  inflating: /tmp/inmet_descompactado/INMET_SE_SP_A712_IGUAPE_01-01-2023_A_31-12-2023.CSV  \n  inflating: /tmp/inmet_descompactado/INMET_SE_SP_A713_SOROCABA_01-01-2023_A_31-12-2023.CSV  \n  inflating: /tmp/inmet_descompactado/INMET_SE_SP_A714_ITAPEVA_01-01-2023_A_31-12-2023.CSV  \n  inflating: /tmp/inmet_descompactado/INMET_SE_SP_A715_SAO MIGUEL ARCANJO_01-01-2023_A_31-12-2023.CSV  \n  inflating: /tmp/inmet_descompactado/INMET_SE_SP_A716_OURINHOS_01-01-2023_A_31-12-2023.CSV  \n  inflating: /tmp/inmet_descompactado/INMET_SE_SP_A718_RANCHARIA_01-01-2023_A_31-12-2023.CSV  \n  inflating: /tmp/inmet_descompactado/INMET_SE_SP_A725_AVARE_01-01-2023_A_31-12-2023.CSV  \n  inflating: /tmp/inmet_descompactado/INMET_SE_SP_A726_PIRACICABA_01-01-2023_A_31-12-2023.CSV  \n  inflating: /tmp/inmet_descompactado/INMET_SE_SP_A727_LINS_01-01-2023_A_31-12-2023.CSV  \n  inflating: /tmp/inmet_descompactado/INMET_SE_SP_A728_TAUBATE_01-01-2023_A_31-12-2023.CSV  \n  inflating: /tmp/inmet_descompactado/INMET_SE_SP_A733_JALES_01-01-2023_A_31-12-2023.CSV  \n  inflating: /tmp/inmet_descompactado/INMET_SE_SP_A734_VALPARAISO_01-01-2023_A_31-12-2023.CSV  \n  inflating: /tmp/inmet_descompactado/INMET_SE_SP_A735_JOSE BONIFACIO_01-01-2023_A_31-12-2023.CSV  \n  inflating: /tmp/inmet_descompactado/INMET_SE_SP_A736_ARIRANHA_01-01-2023_A_31-12-2023.CSV  \n  inflating: /tmp/inmet_descompactado/INMET_SE_SP_A737_IBITINGA_01-01-2023_A_31-12-2023.CSV  \n  inflating: /tmp/inmet_descompactado/INMET_SE_SP_A738_CASA BRANCA_01-01-2023_A_31-12-2023.CSV  \n  inflating: /tmp/inmet_descompactado/INMET_SE_SP_A739_ITAPIRA_01-01-2023_A_31-12-2023.CSV  \n  inflating: /tmp/inmet_descompactado/INMET_SE_SP_A740_SAO LUIZ DO PARAITINGA_01-01-2023_A_31-12-2023.CSV  \n  inflating: /tmp/inmet_descompactado/INMET_SE_SP_A741_BARRA BONITA_01-01-2023_A_31-12-2023.CSV  \n  inflating: /tmp/inmet_descompactado/INMET_SE_SP_A744_BRAGANCA PAULISTA_01-01-2023_A_31-12-2023.CSV  \n  inflating: /tmp/inmet_descompactado/INMET_SE_SP_A746_BARRA DO TURVO_01-01-2023_A_31-12-2023.CSV  \n  inflating: /tmp/inmet_descompactado/INMET_SE_SP_A747_PRADOPOLIS_01-01-2023_A_31-12-2023.CSV  \n  inflating: /tmp/inmet_descompactado/INMET_SE_SP_A748_BARRETOS_01-01-2023_A_31-12-2023.CSV  \n  inflating: /tmp/inmet_descompactado/INMET_SE_SP_A753_ITUVERAVA_01-01-2023_A_31-12-2023.CSV  \n  inflating: /tmp/inmet_descompactado/INMET_SE_SP_A755_BARUERI_01-01-2023_A_31-12-2023.CSV  \n  inflating: /tmp/inmet_descompactado/INMET_SE_SP_A762_DRACENA_01-01-2023_A_31-12-2023.CSV  \n  inflating: /tmp/inmet_descompactado/INMET_SE_SP_A763_MARILIA_01-01-2023_A_31-12-2023.CSV  \n  inflating: /tmp/inmet_descompactado/INMET_SE_SP_A764_BEBEDOURO_01-01-2023_A_31-12-2023.CSV  \n  inflating: /tmp/inmet_descompactado/INMET_SE_SP_A765_BERTIOGA_01-01-2023_A_31-12-2023.CSV  \n  inflating: /tmp/inmet_descompactado/INMET_SE_SP_A766_REGISTRO_01-01-2023_A_31-12-2023.CSV  \n  inflating: /tmp/inmet_descompactado/INMET_SE_SP_A768_TUPA_01-01-2023_A_31-12-2023.CSV  \n  inflating: /tmp/inmet_descompactado/INMET_SE_SP_A769_CACHOEIRA PAULISTA_01-01-2023_A_31-12-2023.CSV  \n  inflating: /tmp/inmet_descompactado/INMET_SE_SP_A770_SAO SIMAO_01-01-2023_A_31-12-2023.CSV  \n  inflating: /tmp/inmet_descompactado/INMET_SE_SP_A771_SAO PAULO - INTERLAGOS_01-01-2023_A_31-12-2023.CSV  \n  inflating: /tmp/inmet_descompactado/INMET_S_PR_A807_CURITIBA_01-01-2023_A_31-12-2023.CSV  \n  inflating: /tmp/inmet_descompactado/INMET_S_PR_A818_IVAI_01-01-2023_A_31-12-2023.CSV  \n  inflating: /tmp/inmet_descompactado/INMET_S_PR_A819_CASTRO_01-01-2023_A_31-12-2023.CSV  \n  inflating: /tmp/inmet_descompactado/INMET_S_PR_A820_MAL. CANDIDO RONDON_01-01-2023_A_31-12-2023.CSV  \n  inflating: /tmp/inmet_descompactado/INMET_S_PR_A821_JOAQUIM TAVORA_01-01-2023_A_31-12-2023.CSV  \n  inflating: /tmp/inmet_descompactado/INMET_S_PR_A822_NOVA TEBAS_01-01-2023_A_31-12-2023.CSV  \n  inflating: /tmp/inmet_descompactado/INMET_S_PR_A823_INACIO MARTINS_01-01-2023_A_31-12-2023.CSV  \n  inflating: /tmp/inmet_descompactado/INMET_S_PR_A824_ICARAIMA_01-01-2023_A_31-12-2023.CSV  \n  inflating: /tmp/inmet_descompactado/INMET_S_PR_A825_GOIOERE_01-01-2023_A_31-12-2023.CSV  \n  inflating: /tmp/inmet_descompactado/INMET_S_PR_A835_MARINGA_01-01-2023_A_31-12-2023.CSV  \n  inflating: /tmp/inmet_descompactado/INMET_S_PR_A842_NOVA FATIMA_01-01-2023_A_31-12-2023.CSV  \n  inflating: /tmp/inmet_descompactado/INMET_S_PR_A843_DOIS VIZINHOS_01-01-2023_A_31-12-2023.CSV  \n  inflating: /tmp/inmet_descompactado/INMET_S_PR_A846_FOZ DO IGUACU_01-01-2023_A_31-12-2023.CSV  \n  inflating: /tmp/inmet_descompactado/INMET_S_PR_A849_DIAMANTE DO NORTE_01-01-2023_A_31-12-2023.CSV  \n  inflating: /tmp/inmet_descompactado/INMET_S_PR_A850_PARANAPOEMA_01-01-2023_A_31-12-2023.CSV  \n  inflating: /tmp/inmet_descompactado/INMET_S_PR_A855_PLANALTO_01-01-2023_A_31-12-2023.CSV  \n  inflating: /tmp/inmet_descompactado/INMET_S_PR_A869_CIDADE GAUCHA_01-01-2023_A_31-12-2023.CSV  \n  inflating: /tmp/inmet_descompactado/INMET_S_PR_A871_JAPIRA_01-01-2023_A_31-12-2023.CSV  \n  inflating: /tmp/inmet_descompactado/INMET_S_PR_A872_VENTANIA_01-01-2023_A_31-12-2023.CSV  \n  inflating: /tmp/inmet_descompactado/INMET_S_PR_A873_MORRETES_01-01-2023_A_31-12-2023.CSV  \n  inflating: /tmp/inmet_descompactado/INMET_S_PR_A874_SAO MATEUS DO SUL_01-01-2023_A_31-12-2023.CSV  \n  inflating: /tmp/inmet_descompactado/INMET_S_PR_A875_GENERAL CARNEIRO_01-01-2023_A_31-12-2023.CSV  \n  inflating: /tmp/inmet_descompactado/INMET_S_PR_A876_CLEVELANDIA_01-01-2023_A_31-12-2023.CSV  \n  inflating: /tmp/inmet_descompactado/INMET_S_PR_B803_CAMPINA DA LAGOA_01-01-2023_A_31-12-2023.CSV  \n  inflating: /tmp/inmet_descompactado/INMET_S_PR_B804_LARANJEIRAS DO SUL_01-01-2023_A_31-12-2023.CSV  \n  inflating: /tmp/inmet_descompactado/INMET_S_PR_B806_COLOMBO_01-01-2023_A_31-12-2023.CSV  \n  inflating: /tmp/inmet_descompactado/INMET_S_RS_A801_PORTO ALEGRE - JARDIM BOTANICO_01-01-2023_A_31-12-2023.CSV  \n  inflating: /tmp/inmet_descompactado/INMET_S_RS_A802_RIO GRANDE_01-01-2023_A_31-12-2023.CSV  \n  inflating: /tmp/inmet_descompactado/INMET_S_RS_A803_SANTA MARIA_01-01-2023_A_31-12-2023.CSV  \n  inflating: /tmp/inmet_descompactado/INMET_S_RS_A804_SANTANA DO LIVRAMENTO_01-01-2023_A_31-12-2023.CSV  \n  inflating: /tmp/inmet_descompactado/INMET_S_RS_A805_SANTO AUGUSTO_01-01-2023_A_31-12-2023.CSV  \n  inflating: /tmp/inmet_descompactado/INMET_S_RS_A808_TORRES_01-01-2023_A_31-12-2023.CSV  \n  inflating: /tmp/inmet_descompactado/INMET_S_RS_A809_URUGUAIANA_01-01-2023_A_31-12-2023.CSV  \n  inflating: /tmp/inmet_descompactado/INMET_S_RS_A810_SANTA ROSA_01-01-2023_A_31-12-2023.CSV  \n  inflating: /tmp/inmet_descompactado/INMET_S_RS_A811_CANGUCU_01-01-2023_A_31-12-2023.CSV  \n  inflating: /tmp/inmet_descompactado/INMET_S_RS_A812_CACAPAVA DO SUL_01-01-2023_A_31-12-2023.CSV  \n  inflating: /tmp/inmet_descompactado/INMET_S_RS_A813_RIO PARDO_01-01-2023_A_31-12-2023.CSV  \n  inflating: /tmp/inmet_descompactado/INMET_S_RS_A826_ALEGRETE_01-01-2023_A_31-12-2023.CSV  \n  inflating: /tmp/inmet_descompactado/INMET_S_RS_A827_BAGE_01-01-2023_A_31-12-2023.CSV  \n  inflating: /tmp/inmet_descompactado/INMET_S_RS_A828_ERECHIM_01-01-2023_A_31-12-2023.CSV  \n  inflating: /tmp/inmet_descompactado/INMET_S_RS_A829_SAO JOSE DOS AUSENTES_01-01-2023_A_31-12-2023.CSV  \n  inflating: /tmp/inmet_descompactado/INMET_S_RS_A830_SAO BORJA_01-01-2023_A_31-12-2023.CSV  \n  inflating: /tmp/inmet_descompactado/INMET_S_RS_A831_QUARAI_01-01-2023_A_31-12-2023.CSV  \n  inflating: /tmp/inmet_descompactado/INMET_S_RS_A832_SAO GABRIEL_01-01-2023_A_31-12-2023.CSV  \n  inflating: /tmp/inmet_descompactado/INMET_S_RS_A833_SANTIAGO_01-01-2023_A_31-12-2023.CSV  \n  inflating: /tmp/inmet_descompactado/INMET_S_RS_A834_TRAMANDAI_01-01-2023_A_31-12-2023.CSV  \n  inflating: /tmp/inmet_descompactado/INMET_S_RS_A836_JAGUARAO_01-01-2023_A_31-12-2023.CSV  \n  inflating: /tmp/inmet_descompactado/INMET_S_RS_A837_SOLEDADE_01-01-2023_A_31-12-2023.CSV  \n  inflating: /tmp/inmet_descompactado/INMET_S_RS_A838_CAMAQUA_01-01-2023_A_31-12-2023.CSV  \n  inflating: /tmp/inmet_descompactado/INMET_S_RS_A839_PASSO FUNDO_01-01-2023_A_31-12-2023.CSV  \n  inflating: /tmp/inmet_descompactado/INMET_S_RS_A840_BENTO GONCALVES_01-01-2023_A_31-12-2023.CSV  \n  inflating: /tmp/inmet_descompactado/INMET_S_RS_A844_LAGOA VERMELHA_01-01-2023_A_31-12-2023.CSV  \n  inflating: /tmp/inmet_descompactado/INMET_S_RS_A852_SAO LUIZ GONZAGA_01-01-2023_A_31-12-2023.CSV  \n  inflating: /tmp/inmet_descompactado/INMET_S_RS_A853_CRUZ ALTA_01-01-2023_A_31-12-2023.CSV  \n  inflating: /tmp/inmet_descompactado/INMET_S_RS_A854_FREDERICO WESTPHALEN_01-01-2023_A_31-12-2023.CSV  \n  inflating: /tmp/inmet_descompactado/INMET_S_RS_A856_PALMEIRA DAS MISSOES_01-01-2023_A_31-12-2023.CSV  \n  inflating: /tmp/inmet_descompactado/INMET_S_RS_A878_MOSTARDAS_01-01-2023_A_31-12-2023.CSV  \n  inflating: /tmp/inmet_descompactado/INMET_S_RS_A879_CANELA_01-01-2023_A_31-12-2023.CSV  \n  inflating: /tmp/inmet_descompactado/INMET_S_RS_A880_VACARIA_01-01-2023_A_31-12-2023.CSV  \n  inflating: /tmp/inmet_descompactado/INMET_S_RS_A881_DOM PEDRITO_01-01-2023_A_31-12-2023.CSV  \n  inflating: /tmp/inmet_descompactado/INMET_S_RS_A882_TEUTONIA_01-01-2023_A_31-12-2023.CSV  \n  inflating: /tmp/inmet_descompactado/INMET_S_RS_A883_IBIRUBA_01-01-2023_A_31-12-2023.CSV  \n  inflating: /tmp/inmet_descompactado/INMET_S_RS_A884_CAMPO BOM_01-01-2023_A_31-12-2023.CSV  \n  inflating: /tmp/inmet_descompactado/INMET_S_RS_A886_TUPANCIRETA_01-01-2023_A_31-12-2023.CSV  \n  inflating: /tmp/inmet_descompactado/INMET_S_RS_A887_CAPAO DO LEAO (PELOTAS)_01-01-2023_A_31-12-2023.CSV  \n  inflating: /tmp/inmet_descompactado/INMET_S_RS_A889_SAO VICENTE DO SUL_01-01-2023_A_31-12-2023.CSV  \n  inflating: /tmp/inmet_descompactado/INMET_S_RS_A893_ENCRUZILHADA DO SUL_01-01-2023_A_31-12-2023.CSV  \n  inflating: /tmp/inmet_descompactado/INMET_S_RS_A894_SERAFINA CORREA_01-01-2023_A_31-12-2023.CSV  \n  inflating: /tmp/inmet_descompactado/INMET_S_RS_A897_CAMBARA DO SUL_01-01-2023_A_31-12-2023.CSV  \n  inflating: /tmp/inmet_descompactado/INMET_S_RS_A899_Santa Vitoria do Palmar - Barra do Chui_01-01-2023_A_31-12-2023.CSV  \n  inflating: /tmp/inmet_descompactado/INMET_S_RS_B807_PORTO ALEGRE- BELEM NOVO_01-01-2023_A_31-12-2023.CSV  \n  inflating: /tmp/inmet_descompactado/INMET_S_SC_A806_FLORIANOPOLIS_01-01-2023_A_31-12-2023.CSV  \n  inflating: /tmp/inmet_descompactado/INMET_S_SC_A814_URUSSANGA_01-01-2023_A_31-12-2023.CSV  \n  inflating: /tmp/inmet_descompactado/INMET_S_SC_A815_SAO JOAQUIM_01-01-2023_A_31-12-2023.CSV  \n  inflating: /tmp/inmet_descompactado/INMET_S_SC_A816_NOVO HORIZONTE_01-01-2023_A_31-12-2023.CSV  \n  inflating: /tmp/inmet_descompactado/INMET_S_SC_A817_INDAIAL_01-01-2023_A_31-12-2023.CSV  \n  inflating: /tmp/inmet_descompactado/INMET_S_SC_A841_JOACABA_01-01-2023_A_31-12-2023.CSV  \n  inflating: /tmp/inmet_descompactado/INMET_S_SC_A845_BOM JARDIM DA SERRA - MORRO DA IGREJA_01-01-2023_A_31-12-2023.CSV  \n  inflating: /tmp/inmet_descompactado/INMET_S_SC_A848_DIONISIO CERQUEIRA_01-01-2023_A_31-12-2023.CSV  \n  inflating: /tmp/inmet_descompactado/INMET_S_SC_A851_ITAPOA_01-01-2023_A_31-12-2023.CSV  \n  inflating: /tmp/inmet_descompactado/INMET_S_SC_A857_SAO MIGUEL DO OESTE_01-01-2023_A_31-12-2023.CSV  \n  inflating: /tmp/inmet_descompactado/INMET_S_SC_A858_XANXERE_01-01-2023_A_31-12-2023.CSV  \n  inflating: /tmp/inmet_descompactado/INMET_S_SC_A859_CACADOR_01-01-2023_A_31-12-2023.CSV  \n  inflating: /tmp/inmet_descompactado/INMET_S_SC_A860_CURITIBANOS_01-01-2023_A_31-12-2023.CSV  \n  inflating: /tmp/inmet_descompactado/INMET_S_SC_A861_RIO DO CAMPO_01-01-2023_A_31-12-2023.CSV  \n  inflating: /tmp/inmet_descompactado/INMET_S_SC_A862_RIO NEGRINHO_01-01-2023_A_31-12-2023.CSV  \n  inflating: /tmp/inmet_descompactado/INMET_S_SC_A863_ITUPORANGA_01-01-2023_A_31-12-2023.CSV  \n  inflating: /tmp/inmet_descompactado/INMET_S_SC_A864_MAJOR VIEIRA_01-01-2023_A_31-12-2023.CSV  \n  inflating: /tmp/inmet_descompactado/INMET_S_SC_A865_LAGES_01-01-2023_A_31-12-2023.CSV  \n  inflating: /tmp/inmet_descompactado/INMET_S_SC_A866_Laguna  - Farol de Santa Marta_01-01-2023_A_31-12-2023.CSV  \n  inflating: /tmp/inmet_descompactado/INMET_S_SC_A867_ARARANGUA_01-01-2023_A_31-12-2023.CSV  \n  inflating: /tmp/inmet_descompactado/INMET_S_SC_A868_ITAJAI_01-01-2023_A_31-12-2023.CSV  \n  inflating: /tmp/inmet_descompactado/INMET_S_SC_A870_RANCHO QUEIMADO_01-01-2023_A_31-12-2023.CSV  \n  inflating: /tmp/inmet_descompactado/INMET_S_SC_A895_CHAPECO_01-01-2023_A_31-12-2023.CSV  \n  inflating: /tmp/inmet_descompactado/INMET_S_SC_A898_CAMPOS NOVOS_01-01-2023_A_31-12-2023.CSV  \n"
     ]
    }
   ],
   "source": [
    "%sh \n",
    "rm /tmp/inmet_descompactado/*\n",
    "unzip /tmp/inmet_2023.zip -d /tmp/inmet_descompactado"
   ]
  },
  {
   "cell_type": "code",
   "execution_count": 0,
   "metadata": {
    "application/vnd.databricks.v1+cell": {
     "cellMetadata": {
      "byteLimit": 2048000,
      "rowLimit": 10000
     },
     "inputWidgets": {},
     "nuid": "27b721a6-f42a-4407-9065-e07182957dbe",
     "showTitle": false,
     "title": ""
    }
   },
   "outputs": [],
   "source": [
    "%sh tail -n +9 /tmp/inmet_descompactado/INMET_CO_DF_A001_BRASILIA_01-01-2023_A_31-12-2023.CSV > temp && mv temp /tmp/inmet_descompactado/INMET_CO_DF_A001_BRASILIA_01-01-2023_A_31-12-2023.CSV"
   ]
  },
  {
   "cell_type": "code",
   "execution_count": 0,
   "metadata": {
    "application/vnd.databricks.v1+cell": {
     "cellMetadata": {
      "byteLimit": 2048000,
      "rowLimit": 10000
     },
     "inputWidgets": {},
     "nuid": "ccd4beea-8bef-49f4-a0f0-73b75491e1b4",
     "showTitle": false,
     "title": ""
    }
   },
   "outputs": [
    {
     "output_type": "stream",
     "name": "stdout",
     "output_type": "stream",
     "text": [
      "Out[17]: True"
     ]
    }
   ],
   "source": [
    "# Caminho na pasta no DBFS onde o arquivo será salvo\n",
    "dbfs_path_d = '/FileStore/tables/downloads/inmet_brasilia_2023.csv'\n",
    "\n",
    "# Copiando o arquivo para a pasta apropriada no DBFS\n",
    "dbutils.fs.cp('file:/tmp/inmet_descompactado/INMET_CO_DF_A001_BRASILIA_01-01-2023_A_31-12-2023.CSV', dbfs_path_d)"
   ]
  },
  {
   "cell_type": "markdown",
   "metadata": {
    "application/vnd.databricks.v1+cell": {
     "cellMetadata": {
      "byteLimit": 2048000,
      "rowLimit": 10000
     },
     "inputWidgets": {},
     "nuid": "6d8c2429-6a5e-4a95-be18-8f41b68607b8",
     "showTitle": false,
     "title": ""
    }
   },
   "source": [
    "# Transformação"
   ]
  },
  {
   "cell_type": "markdown",
   "metadata": {
    "application/vnd.databricks.v1+cell": {
     "cellMetadata": {
      "byteLimit": 2048000,
      "rowLimit": 10000
     },
     "inputWidgets": {},
     "nuid": "dfb1bc20-733f-48d2-be98-83ec059be41d",
     "showTitle": false,
     "title": ""
    }
   },
   "source": [
    "## Processamanto"
   ]
  },
  {
   "cell_type": "code",
   "execution_count": 0,
   "metadata": {
    "application/vnd.databricks.v1+cell": {
     "cellMetadata": {
      "byteLimit": 2048000,
      "rowLimit": 10000
     },
     "inputWidgets": {},
     "nuid": "6482be4c-f067-47c9-b0ac-35c938b94601",
     "showTitle": false,
     "title": ""
    }
   },
   "outputs": [],
   "source": [
    "# Iniciando variáveis\n",
    "file_location = \"/FileStore/tables/downloads/inmet_brasilia_2023.csv\"\n",
    "file_type = \"csv\"\n",
    "\n",
    "# Opções para o CSV\n",
    "infer_schema = \"True\"\n",
    "first_row_is_header = \"True\"\n",
    "delimiter = \";\"\n",
    "\n",
    "# Criando do dataframe com o arquivos baixado\n",
    "df = spark.read.format(file_type) \\\n",
    "  .option(\"inferSchema\", infer_schema) \\\n",
    "  .option(\"header\", first_row_is_header) \\\n",
    "  .option(\"sep\", delimiter) \\\n",
    "  .load(file_location)\n",
    "\n",
    "# Remove colunas que não serão usadas\n",
    "\n",
    "# colunas = df.columns\n",
    "# print(f'Nomes das colunas: {colunas}')\n",
    "\n",
    "df = df.drop('PRECIPITA��O TOTAL, HOR�RIO (mm)', 'PRESSAO ATMOSFERICA AO NIVEL DA ESTACAO, HORARIA (mB)', 'PRESS�O ATMOSFERICA MAX.NA HORA ANT. (AUT) (mB)', 'PRESS�O ATMOSFERICA MIN. NA HORA ANT. (AUT) (mB)', 'RADIACAO GLOBAL (Kj/m�)', 'TEMPERATURA DO PONTO DE ORVALHO (�C)', 'TEMPERATURA M�XIMA NA HORA ANT. (AUT) (�C)', 'TEMPERATURA M�NIMA NA HORA ANT. (AUT) (�C)', 'TEMPERATURA ORVALHO MAX. NA HORA ANT. (AUT) (�C)', 'TEMPERATURA ORVALHO MIN. NA HORA ANT. (AUT) (�C)', 'UMIDADE REL. MAX. NA HORA ANT. (AUT) (%)', 'UMIDADE REL. MIN. NA HORA ANT. (AUT) (%)',  'VENTO, DIRE��O HORARIA (gr) (� (gr))', 'VENTO, RAJADA MAXIMA (m/s)', 'VENTO, VELOCIDADE HORARIA (m/s)', '_c19')\n",
    "\n",
    "# Renomeia colunas que serão utilizadas\n",
    "\n",
    "df = df.withColumnRenamed(\"Data\", \"data\")\n",
    "df = df.withColumnRenamed(\"Hora UTC\", \"HoraUTC\")\n",
    "df = df.withColumnRenamed(\"TEMPERATURA DO AR - BULBO SECO, HORARIA (�C)\", \"temperaturaArC\")\n",
    "df = df.withColumnRenamed(\"UMIDADE RELATIVA DO AR, HORARIA (%)\", \"umidadeArPerc\")\n",
    "\n",
    "df = df.withColumn(\"temperaturaArC\", regexp_replace(col(\"temperaturaArC\"), \",\", \".\")) # Substitui ',' por '.' para viabilizar calculo da mediana\n"
   ]
  },
  {
   "cell_type": "code",
   "execution_count": 0,
   "metadata": {
    "application/vnd.databricks.v1+cell": {
     "cellMetadata": {
      "byteLimit": 2048000,
      "rowLimit": 10000
     },
     "inputWidgets": {},
     "nuid": "4bbe9b44-5f26-4357-92f0-8f070edd9ec3",
     "showTitle": false,
     "title": ""
    }
   },
   "outputs": [],
   "source": [
    "# Adicionar uma nova coluna de ID que é composta pelo dia do ano e o ano.\n",
    "df = df.withColumn(\"ClimaID\", (dayofyear(df[\"Data\"])*10000) + year(df[\"Data\"]) )"
   ]
  },
  {
   "cell_type": "code",
   "execution_count": 0,
   "metadata": {
    "application/vnd.databricks.v1+cell": {
     "cellMetadata": {
      "byteLimit": 2048000,
      "rowLimit": 10000
     },
     "inputWidgets": {},
     "nuid": "e88d6beb-c909-4511-8a0a-2c31ef9b5eeb",
     "showTitle": false,
     "title": ""
    }
   },
   "outputs": [],
   "source": [
    "# Ajusta o tipo de dado usano nas colunas de temperatura e umidade.\n",
    "\n",
    "df = df.withColumn(\"temperaturaArC\", col(\"temperaturaArC\").cast(\"float\"))\n",
    "df = df.withColumn(\"umidadeArPerc\", col(\"umidadeArPerc\").cast(\"int\"))\n",
    "\n",
    "# Calcula as medianas relativas as medições de 24 horas da estação.\n",
    "df_medianas = df.groupBy(\"climaID\", \"data\").agg(\n",
    "    round(expr(\"percentile_approx(TemperaturaArC, 0.5)\"), 1).alias(\"medianaTemperaturaArC\"),\n",
    "    expr(\"percentile_approx(UmidadeArPerc, 0.5)\").alias(\"medianaUmidadeArPerc\")\n",
    ")"
   ]
  },
  {
   "cell_type": "markdown",
   "metadata": {
    "application/vnd.databricks.v1+cell": {
     "cellMetadata": {
      "byteLimit": 2048000,
      "rowLimit": 10000
     },
     "inputWidgets": {},
     "nuid": "f08fae89-6e87-4861-bc09-242006e2a83f",
     "showTitle": false,
     "title": ""
    }
   },
   "source": [
    "### Teste da tabela DimClima"
   ]
  },
  {
   "cell_type": "code",
   "execution_count": 0,
   "metadata": {
    "application/vnd.databricks.v1+cell": {
     "cellMetadata": {
      "byteLimit": 2048000,
      "rowLimit": 10000
     },
     "inputWidgets": {},
     "nuid": "bd82bb99-1479-4d5c-be10-8c36df0f1d44",
     "showTitle": false,
     "title": ""
    }
   },
   "outputs": [],
   "source": [
    "# Cria uma tabela temporária\n",
    "\n",
    "temp_table_name = \"DimClima\"\n",
    "\n",
    "df_medianas.createOrReplaceTempView(temp_table_name)"
   ]
  },
  {
   "cell_type": "code",
   "execution_count": 0,
   "metadata": {
    "application/vnd.databricks.v1+cell": {
     "cellMetadata": {
      "byteLimit": 2048000,
      "implicitDf": true,
      "rowLimit": 10000
     },
     "inputWidgets": {},
     "nuid": "b5f66379-6f7f-42ec-8e82-d0e0926a1721",
     "showTitle": false,
     "title": ""
    }
   },
   "outputs": [
    {
     "output_type": "display_data",
     "data": {
      "text/html": [
       "<style scoped>\n",
       "  .table-result-container {\n",
       "    max-height: 300px;\n",
       "    overflow: auto;\n",
       "  }\n",
       "  table, th, td {\n",
       "    border: 1px solid black;\n",
       "    border-collapse: collapse;\n",
       "  }\n",
       "  th, td {\n",
       "    padding: 5px;\n",
       "  }\n",
       "  th {\n",
       "    text-align: left;\n",
       "  }\n",
       "</style><div class='table-result-container'><table class='table-result'><thead style='background-color: white'><tr><th>climaID</th><th>data</th><th>medianaTemperaturaArC</th><th>medianaUmidadeArPerc</th></tr></thead><tbody><tr><td>12023</td><td>2023-01-01</td><td>20.1</td><td>83</td></tr><tr><td>22023</td><td>2023-01-02</td><td>22.5</td><td>69</td></tr><tr><td>32023</td><td>2023-01-03</td><td>19.7</td><td>89</td></tr><tr><td>42023</td><td>2023-01-04</td><td>19.7</td><td>84</td></tr><tr><td>52023</td><td>2023-01-05</td><td>19.7</td><td>84</td></tr><tr><td>62023</td><td>2023-01-06</td><td>19.5</td><td>90</td></tr><tr><td>72023</td><td>2023-01-07</td><td>19.1</td><td>89</td></tr><tr><td>82023</td><td>2023-01-08</td><td>19.8</td><td>84</td></tr><tr><td>92023</td><td>2023-01-09</td><td>19.0</td><td>86</td></tr><tr><td>102023</td><td>2023-01-10</td><td>21.1</td><td>71</td></tr><tr><td>112023</td><td>2023-01-11</td><td>20.3</td><td>83</td></tr><tr><td>122023</td><td>2023-01-12</td><td>19.3</td><td>89</td></tr><tr><td>132023</td><td>2023-01-13</td><td>18.4</td><td>91</td></tr><tr><td>142023</td><td>2023-01-14</td><td>20.1</td><td>88</td></tr><tr><td>152023</td><td>2023-01-15</td><td>20.9</td><td>75</td></tr><tr><td>162023</td><td>2023-01-16</td><td>20.9</td><td>73</td></tr><tr><td>172023</td><td>2023-01-17</td><td>22.8</td><td>62</td></tr><tr><td>182023</td><td>2023-01-18</td><td>22.2</td><td>65</td></tr><tr><td>192023</td><td>2023-01-19</td><td>19.2</td><td>78</td></tr><tr><td>202023</td><td>2023-01-20</td><td>19.1</td><td>83</td></tr></tbody></table></div>"
      ]
     },
     "metadata": {
      "application/vnd.databricks.v1+output": {
       "addedWidgets": {},
       "aggData": [],
       "aggError": "",
       "aggOverflow": false,
       "aggSchema": [],
       "aggSeriesLimitReached": false,
       "aggType": "",
       "arguments": {},
       "columnCustomDisplayInfos": {},
       "data": [
        [
         12023,
         "2023-01-01",
         20.1,
         83
        ],
        [
         22023,
         "2023-01-02",
         22.5,
         69
        ],
        [
         32023,
         "2023-01-03",
         19.7,
         89
        ],
        [
         42023,
         "2023-01-04",
         19.7,
         84
        ],
        [
         52023,
         "2023-01-05",
         19.7,
         84
        ],
        [
         62023,
         "2023-01-06",
         19.5,
         90
        ],
        [
         72023,
         "2023-01-07",
         19.1,
         89
        ],
        [
         82023,
         "2023-01-08",
         19.8,
         84
        ],
        [
         92023,
         "2023-01-09",
         19.0,
         86
        ],
        [
         102023,
         "2023-01-10",
         21.1,
         71
        ],
        [
         112023,
         "2023-01-11",
         20.3,
         83
        ],
        [
         122023,
         "2023-01-12",
         19.3,
         89
        ],
        [
         132023,
         "2023-01-13",
         18.4,
         91
        ],
        [
         142023,
         "2023-01-14",
         20.1,
         88
        ],
        [
         152023,
         "2023-01-15",
         20.9,
         75
        ],
        [
         162023,
         "2023-01-16",
         20.9,
         73
        ],
        [
         172023,
         "2023-01-17",
         22.8,
         62
        ],
        [
         182023,
         "2023-01-18",
         22.2,
         65
        ],
        [
         192023,
         "2023-01-19",
         19.2,
         78
        ],
        [
         202023,
         "2023-01-20",
         19.1,
         83
        ]
       ],
       "datasetInfos": [],
       "dbfsResultPath": null,
       "isJsonSchema": true,
       "metadata": {},
       "overflow": false,
       "plotOptions": {
        "customPlotOptions": {},
        "displayType": "table",
        "pivotAggregation": null,
        "pivotColumns": null,
        "xColumns": null,
        "yColumns": null
       },
       "removedWidgets": [],
       "schema": [
        {
         "metadata": "{}",
         "name": "climaID",
         "type": "\"integer\""
        },
        {
         "metadata": "{\"__detected_date_formats\":\"yyyy/M/d\"}",
         "name": "data",
         "type": "\"date\""
        },
        {
         "metadata": "{}",
         "name": "medianaTemperaturaArC",
         "type": "\"float\""
        },
        {
         "metadata": "{}",
         "name": "medianaUmidadeArPerc",
         "type": "\"integer\""
        }
       ],
       "type": "table"
      }
     },
     "output_type": "display_data"
    }
   ],
   "source": [
    "%sql\n",
    "\n",
    "SELECT * FROM DimClima LIMIT 20;"
   ]
  },
  {
   "cell_type": "markdown",
   "metadata": {
    "application/vnd.databricks.v1+cell": {
     "cellMetadata": {
      "byteLimit": 2048000,
      "rowLimit": 10000
     },
     "inputWidgets": {},
     "nuid": "ddb197ed-9bc9-456e-9763-6116916d35fa",
     "showTitle": false,
     "title": ""
    }
   },
   "source": [
    "# Carregamento (LOAD)"
   ]
  },
  {
   "cell_type": "markdown",
   "metadata": {
    "application/vnd.databricks.v1+cell": {
     "cellMetadata": {
      "byteLimit": 2048000,
      "rowLimit": 10000
     },
     "inputWidgets": {},
     "nuid": "b92df7f7-a04f-4995-9c33-1e6e2fa1ebbd",
     "showTitle": false,
     "title": ""
    }
   },
   "source": [
    "## Persistindo os dados"
   ]
  },
  {
   "cell_type": "code",
   "execution_count": 0,
   "metadata": {
    "application/vnd.databricks.v1+cell": {
     "cellMetadata": {
      "byteLimit": 2048000,
      "rowLimit": 10000
     },
     "inputWidgets": {},
     "nuid": "74d42ed2-737f-4721-bb55-23f3f169d978",
     "showTitle": false,
     "title": ""
    }
   },
   "outputs": [
    {
     "output_type": "stream",
     "name": "stdout",
     "output_type": "stream",
     "text": [
      "Out[23]: True"
     ]
    }
   ],
   "source": [
    "# Apaga arquivo anteriror, se houver.\n",
    "\n",
    "dbutils.fs.rm(\"dbfs:/FileStore/tables/DW/DimClima.parquet\", recurse=True)"
   ]
  },
  {
   "cell_type": "code",
   "execution_count": 0,
   "metadata": {
    "application/vnd.databricks.v1+cell": {
     "cellMetadata": {
      "byteLimit": 2048000,
      "rowLimit": 10000
     },
     "inputWidgets": {},
     "nuid": "70b1311b-ea36-4ecd-892d-5fcb485c440e",
     "showTitle": false,
     "title": ""
    }
   },
   "outputs": [],
   "source": [
    "# Define caminho no DBFS\n",
    "caminho_dbfs = \"dbfs:/FileStore/tables/DW/DimClima.parquet\"\n",
    "\n",
    "# Salva o DataFrame no formato Parquet no DBFS com cabeçalho\n",
    "df_medianas.write.format(\"delta\").mode(\"overwrite\").option(\"header\", True).save(caminho_dbfs)\n"
   ]
  }
 ],
 "metadata": {
  "application/vnd.databricks.v1+notebook": {
   "dashboards": [],
   "environmentMetadata": null,
   "language": "python",
   "notebookMetadata": {
    "mostRecentlyExecutedCommandWithImplicitDF": {
     "commandId": 4411290763175866,
     "dataframes": [
      "_sqldf"
     ]
    },
    "pythonIndentUnit": 4
   },
   "notebookName": "ETL-Inmet",
   "widgets": {}
  }
 },
 "nbformat": 4,
 "nbformat_minor": 0
}
